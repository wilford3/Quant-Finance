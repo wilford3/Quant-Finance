{
  "nbformat": 4,
  "nbformat_minor": 0,
  "metadata": {
    "colab": {
      "provenance": []
    },
    "kernelspec": {
      "name": "python3",
      "display_name": "Python 3"
    },
    "language_info": {
      "name": "python"
    }
  },
  "cells": [
    {
      "cell_type": "code",
      "execution_count": 4,
      "metadata": {
        "colab": {
          "base_uri": "https://localhost:8080/"
        },
        "id": "LJspTOSaXoke",
        "outputId": "2412a75f-2383-44c6-f5a0-9eb60c8d187b"
      },
      "outputs": [
        {
          "output_type": "stream",
          "name": "stdout",
          "text": [
            "   rating  min_fico  max_fico   mean_fico  num_records  num_defaults  \\\n",
            "0       1       661       685  672.511710         1409           134   \n",
            "1       2       612       636  624.213755         1614           272   \n",
            "2       3       408       512  489.308017          237           160   \n",
            "3       4       553       584  569.994516         1094           357   \n",
            "4       5       756       850  779.060606          231             4   \n",
            "5       6       637       660  648.314672         1554           205   \n",
            "6       7       716       755  731.829001          731            29   \n",
            "7       8       585       611  598.523948         1378           331   \n",
            "8       9       686       715  699.403523         1192            91   \n",
            "9      10       513       552  535.930357          560           268   \n",
            "\n",
            "   default_rate  \n",
            "0      0.095103  \n",
            "1      0.168525  \n",
            "2      0.675105  \n",
            "3      0.326325  \n",
            "4      0.017316  \n",
            "5      0.131918  \n",
            "6      0.039672  \n",
            "7      0.240203  \n",
            "8      0.076342  \n",
            "9      0.478571  \n"
          ]
        }
      ],
      "source": [
        "import pandas as pd\n",
        "import numpy as np\n",
        "from sklearn.cluster import KMeans\n",
        "import io\n",
        "import requests\n",
        "\n",
        "\n",
        "file_path = \"https://www.dropbox.com/scl/fi/113aenklgr6x0oru9l58k/Task-3-and-4_Loan_Data.xlsx?rlkey=c864pxz4wzz28ybaswrqmrunj&dl=1\"\n",
        "\n",
        "\n",
        "\n",
        "response = requests.get(file_path)\n",
        "response.raise_for_status()\n",
        "\n",
        "\n",
        "df = pd.read_excel(io.BytesIO(response.content))\n",
        "\n",
        "\n",
        "num_buckets = 10\n",
        "\n",
        "\n",
        "fico_scores = df['fico_score'].values.reshape(-1, 1)\n",
        "\n",
        "\n",
        "kmeans = KMeans(n_clusters=num_buckets, random_state=42, n_init=10)\n",
        "df['bucket'] = kmeans.fit_predict(fico_scores)\n",
        "\n",
        "\n",
        "bucket_boundaries = np.sort(kmeans.cluster_centers_.flatten())\n",
        "\n",
        "\n",
        "df['rating'] = df['bucket'].rank(method=\"dense\", ascending=False).astype(int)\n",
        "\n",
        "bucket_stats = df.groupby('rating').agg(\n",
        "    min_fico=('fico_score', 'min'),\n",
        "    max_fico=('fico_score', 'max'),\n",
        "    mean_fico=('fico_score', 'mean'),\n",
        "    num_records=('fico_score', 'count'),\n",
        "    num_defaults=('default', 'sum')\n",
        ").reset_index()\n",
        "\n",
        "\n",
        "bucket_stats['default_rate'] = bucket_stats['num_defaults'] / bucket_stats['num_records']\n",
        "\n",
        "\n",
        "print(bucket_stats)\n"
      ]
    }
  ]
}