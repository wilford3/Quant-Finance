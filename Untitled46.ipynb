{
  "nbformat": 4,
  "nbformat_minor": 0,
  "metadata": {
    "colab": {
      "provenance": []
    },
    "kernelspec": {
      "name": "python3",
      "display_name": "Python 3"
    },
    "language_info": {
      "name": "python"
    }
  },
  "cells": [
    {
      "cell_type": "code",
      "execution_count": 2,
      "metadata": {
        "colab": {
          "base_uri": "https://localhost:8080/"
        },
        "id": "D4MH1dEeUS6q",
        "outputId": "1a2bf609-070b-4a6b-a742-82e0b8e56ad5"
      },
      "outputs": [
        {
          "output_type": "stream",
          "name": "stdout",
          "text": [
            "Requirement already satisfied: pandas in /usr/local/lib/python3.11/dist-packages (2.2.2)\n",
            "Requirement already satisfied: openpyxl in /usr/local/lib/python3.11/dist-packages (3.1.5)\n",
            "Requirement already satisfied: numpy>=1.23.2 in /usr/local/lib/python3.11/dist-packages (from pandas) (1.26.4)\n",
            "Requirement already satisfied: python-dateutil>=2.8.2 in /usr/local/lib/python3.11/dist-packages (from pandas) (2.8.2)\n",
            "Requirement already satisfied: pytz>=2020.1 in /usr/local/lib/python3.11/dist-packages (from pandas) (2025.1)\n",
            "Requirement already satisfied: tzdata>=2022.7 in /usr/local/lib/python3.11/dist-packages (from pandas) (2025.1)\n",
            "Requirement already satisfied: et-xmlfile in /usr/local/lib/python3.11/dist-packages (from openpyxl) (2.0.0)\n",
            "Requirement already satisfied: six>=1.5 in /usr/local/lib/python3.11/dist-packages (from python-dateutil>=2.8.2->pandas) (1.17.0)\n",
            "Expected Loss: $48.66\n"
          ]
        },
        {
          "output_type": "stream",
          "name": "stderr",
          "text": [
            "/usr/local/lib/python3.11/dist-packages/sklearn/utils/validation.py:2739: UserWarning: X does not have valid feature names, but StandardScaler was fitted with feature names\n",
            "  warnings.warn(\n"
          ]
        }
      ],
      "source": [
        "!pip install pandas openpyxl\n",
        "\n",
        "import pandas as pd\n",
        "import io\n",
        "import requests\n",
        "\n",
        "\n",
        "file_path = \"https://www.dropbox.com/scl/fi/113aenklgr6x0oru9l58k/Task-3-and-4_Loan_Data.xlsx?rlkey=c864pxz4wzz28ybaswrqmrunj&dl=1\"\n",
        "\n",
        "\n",
        "response = requests.get(file_path)\n",
        "response.raise_for_status()\n",
        "\n",
        "loan_data = pd.read_excel(io.BytesIO(response.content))\n",
        "\n",
        "\n",
        "loan_data_cleaned = loan_data.drop(columns=['customer_id'])\n",
        "\n",
        "\n",
        "X = loan_data_cleaned.drop(columns=['default'])\n",
        "y = loan_data_cleaned['default']\n",
        "\n",
        "\n",
        "X_train, X_test, y_train, y_test = train_test_split(X, y, test_size=0.2, random_state=42, stratify=y)\n",
        "\n",
        "\n",
        "scaler = StandardScaler()\n",
        "X_train_scaled = scaler.fit_transform(X_train)\n",
        "X_test_scaled = scaler.transform(X_test)\n",
        "\n",
        "\n",
        "models = {\n",
        "    \"Logistic Regression\": LogisticRegression(),\n",
        "    \"Decision Tree\": DecisionTreeClassifier(),\n",
        "    \"Random Forest\": RandomForestClassifier(n_estimators=100, random_state=42)\n",
        "}\n",
        "\n",
        "\n",
        "model_performance = {}\n",
        "for name, model in models.items():\n",
        "    model.fit(X_train_scaled, y_train)\n",
        "    y_pred_prob = model.predict_proba(X_test_scaled)[:, 1]\n",
        "    auc_score = roc_auc_score(y_test, y_pred_prob)\n",
        "    model_performance[name] = auc_score\n",
        "\n",
        "\n",
        "best_model = models[\"Logistic Regression\"]\n",
        "\n",
        "\n",
        "def expected_loss(credit_lines_outstanding, loan_amt_outstanding, total_debt_outstanding, income, years_employed, fico_score):\n",
        "    \"\"\"\n",
        "    Estimate the probability of default (PD) and compute the expected loss on a loan.\n",
        "\n",
        "    Parameters:\n",
        "    - credit_lines_outstanding (int): Number of credit lines\n",
        "    - loan_amt_outstanding (float): Loan amount outstanding\n",
        "    - total_debt_outstanding (float): Total debt outstanding\n",
        "    - income (float): Borrower's income\n",
        "    - years_employed (int): Years employed\n",
        "    - fico_score (int): Borrower's FICO score\n",
        "\n",
        "    Returns:\n",
        "    - expected_loss (float): Computed expected loss on the loan\n",
        "    \"\"\"\n",
        "\n",
        "    input_data = [[credit_lines_outstanding, loan_amt_outstanding, total_debt_outstanding, income, years_employed, fico_score]]\n",
        "    input_scaled = scaler.transform(input_data)\n",
        "\n",
        "\n",
        "    pd_estimate = best_model.predict_proba(input_scaled)[:, 1][0]\n",
        "\n",
        "    # Compute expected loss (EL = PD * (1 - Recovery Rate) * Loan Amount)\n",
        "    recovery_rate = 0.10  # Given recovery rate of 10%\n",
        "    el = pd_estimate * (1 - recovery_rate) * loan_amt_outstanding\n",
        "\n",
        "    return el\n",
        "\n",
        "sample_loss = expected_loss(3, 5000, 10000, 60000, 5, 650)\n",
        "print(f\"Expected Loss: ${sample_loss:.2f}\")\n"
      ]
    }
  ]
}