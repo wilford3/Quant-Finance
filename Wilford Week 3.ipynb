{
 "cells": [
  {
   "cell_type": "markdown",
   "id": "a4af9487-759f-408c-a275-ee5464bb6d2b",
   "metadata": {},
   "source": [
    "WEEK 3:\n",
    "\n",
    "EFFICIENT FRONTIER (PART 1)"
   ]
  },
  {
   "cell_type": "code",
   "execution_count": 1,
   "id": "754773b6-c779-4579-8b16-27b1e6ea2396",
   "metadata": {},
   "outputs": [],
   "source": [
    "import pandas as pd\n",
    "import numpy as np\n",
    "import matplotlib.pyplot as plt"
   ]
  },
  {
   "cell_type": "code",
   "execution_count": 2,
   "id": "3c95d888-3c3f-4981-999e-9294b4fd40db",
   "metadata": {},
   "outputs": [
    {
     "data": {
      "text/html": [
       "<div>\n",
       "<style scoped>\n",
       "    .dataframe tbody tr th:only-of-type {\n",
       "        vertical-align: middle;\n",
       "    }\n",
       "\n",
       "    .dataframe tbody tr th {\n",
       "        vertical-align: top;\n",
       "    }\n",
       "\n",
       "    .dataframe thead th {\n",
       "        text-align: right;\n",
       "    }\n",
       "</style>\n",
       "<table border=\"1\" class=\"dataframe\">\n",
       "  <thead>\n",
       "    <tr style=\"text-align: right;\">\n",
       "      <th></th>\n",
       "      <th>Food</th>\n",
       "      <th>Beer</th>\n",
       "      <th>Smoke</th>\n",
       "      <th>Games</th>\n",
       "      <th>Books</th>\n",
       "      <th>Hshld</th>\n",
       "      <th>Clths</th>\n",
       "      <th>Hlth</th>\n",
       "      <th>Chems</th>\n",
       "      <th>Txtls</th>\n",
       "      <th>...</th>\n",
       "      <th>Telcm</th>\n",
       "      <th>Servs</th>\n",
       "      <th>BusEq</th>\n",
       "      <th>Paper</th>\n",
       "      <th>Trans</th>\n",
       "      <th>Whlsl</th>\n",
       "      <th>Rtail</th>\n",
       "      <th>Meals</th>\n",
       "      <th>Fin</th>\n",
       "      <th>Other</th>\n",
       "    </tr>\n",
       "  </thead>\n",
       "  <tbody>\n",
       "    <tr>\n",
       "      <th>1926-01</th>\n",
       "      <td>0.56</td>\n",
       "      <td>-5.19</td>\n",
       "      <td>1.29</td>\n",
       "      <td>2.93</td>\n",
       "      <td>10.97</td>\n",
       "      <td>-0.48</td>\n",
       "      <td>8.08</td>\n",
       "      <td>1.77</td>\n",
       "      <td>8.14</td>\n",
       "      <td>0.39</td>\n",
       "      <td>...</td>\n",
       "      <td>0.83</td>\n",
       "      <td>9.22</td>\n",
       "      <td>2.06</td>\n",
       "      <td>7.70</td>\n",
       "      <td>1.91</td>\n",
       "      <td>-23.79</td>\n",
       "      <td>0.07</td>\n",
       "      <td>1.87</td>\n",
       "      <td>-0.02</td>\n",
       "      <td>5.20</td>\n",
       "    </tr>\n",
       "    <tr>\n",
       "      <th>1926-01</th>\n",
       "      <td>2.59</td>\n",
       "      <td>27.03</td>\n",
       "      <td>6.50</td>\n",
       "      <td>0.55</td>\n",
       "      <td>10.01</td>\n",
       "      <td>-3.58</td>\n",
       "      <td>-2.51</td>\n",
       "      <td>4.25</td>\n",
       "      <td>5.50</td>\n",
       "      <td>7.97</td>\n",
       "      <td>...</td>\n",
       "      <td>2.17</td>\n",
       "      <td>2.02</td>\n",
       "      <td>4.39</td>\n",
       "      <td>-2.38</td>\n",
       "      <td>4.85</td>\n",
       "      <td>5.39</td>\n",
       "      <td>-0.75</td>\n",
       "      <td>-0.13</td>\n",
       "      <td>4.47</td>\n",
       "      <td>6.76</td>\n",
       "    </tr>\n",
       "    <tr>\n",
       "      <th>1926-01</th>\n",
       "      <td>1.16</td>\n",
       "      <td>4.02</td>\n",
       "      <td>1.26</td>\n",
       "      <td>6.58</td>\n",
       "      <td>-0.99</td>\n",
       "      <td>0.73</td>\n",
       "      <td>-0.51</td>\n",
       "      <td>0.69</td>\n",
       "      <td>5.33</td>\n",
       "      <td>2.30</td>\n",
       "      <td>...</td>\n",
       "      <td>2.41</td>\n",
       "      <td>2.25</td>\n",
       "      <td>0.19</td>\n",
       "      <td>-5.54</td>\n",
       "      <td>0.07</td>\n",
       "      <td>-7.87</td>\n",
       "      <td>0.25</td>\n",
       "      <td>-0.56</td>\n",
       "      <td>-1.61</td>\n",
       "      <td>-3.86</td>\n",
       "    </tr>\n",
       "  </tbody>\n",
       "</table>\n",
       "<p>3 rows × 30 columns</p>\n",
       "</div>"
      ],
      "text/plain": [
       "         Food   Beer   Smoke  Games  Books  Hshld  Clths  Hlth   Chems  Txtls  \\\n",
       "1926-01   0.56  -5.19   1.29   2.93  10.97  -0.48   8.08   1.77   8.14   0.39   \n",
       "1926-01   2.59  27.03   6.50   0.55  10.01  -3.58  -2.51   4.25   5.50   7.97   \n",
       "1926-01   1.16   4.02   1.26   6.58  -0.99   0.73  -0.51   0.69   5.33   2.30   \n",
       "\n",
       "         ...  Telcm  Servs  BusEq  Paper  Trans  Whlsl  Rtail  Meals  Fin    \\\n",
       "1926-01  ...   0.83   9.22   2.06   7.70   1.91 -23.79   0.07   1.87  -0.02   \n",
       "1926-01  ...   2.17   2.02   4.39  -2.38   4.85   5.39  -0.75  -0.13   4.47   \n",
       "1926-01  ...   2.41   2.25   0.19  -5.54   0.07  -7.87   0.25  -0.56  -1.61   \n",
       "\n",
       "         Other  \n",
       "1926-01   5.20  \n",
       "1926-01   6.76  \n",
       "1926-01  -3.86  \n",
       "\n",
       "[3 rows x 30 columns]"
      ]
     },
     "execution_count": 2,
     "metadata": {},
     "output_type": "execute_result"
    }
   ],
   "source": [
    "ret = pd.read_csv(\"data3_industry_30_vw_monthly.csv\", header = 0, index_col=0)\n",
    "ret.index = pd.to_datetime(ret.index, format =\"%Y%M\").to_period(\"M\")\n",
    "ret.head(3)"
   ]
  },
  {
   "cell_type": "code",
   "execution_count": 3,
   "id": "357d3c94-249d-42c5-9c3c-464ecc1bf912",
   "metadata": {},
   "outputs": [
    {
     "data": {
      "text/plain": [
       "Index(['Food ', 'Beer ', 'Smoke', 'Games', 'Books', 'Hshld', 'Clths', 'Hlth ',\n",
       "       'Chems', 'Txtls', 'Cnstr', 'Steel', 'FabPr', 'ElcEq', 'Autos', 'Carry',\n",
       "       'Mines', 'Coal ', 'Oil  ', 'Util ', 'Telcm', 'Servs', 'BusEq', 'Paper',\n",
       "       'Trans', 'Whlsl', 'Rtail', 'Meals', 'Fin  ', 'Other'],\n",
       "      dtype='object')"
      ]
     },
     "execution_count": 3,
     "metadata": {},
     "output_type": "execute_result"
    }
   ],
   "source": [
    "ret.columns"
   ]
  },
  {
   "cell_type": "code",
   "execution_count": 4,
   "id": "803ff88d-646f-421a-880d-d2a28765b39e",
   "metadata": {},
   "outputs": [
    {
     "data": {
      "text/plain": [
       "Index(['Food', 'Beer', 'Smoke', 'Games', 'Books', 'Hshld', 'Clths', 'Hlth',\n",
       "       'Chems', 'Txtls', 'Cnstr', 'Steel', 'FabPr', 'ElcEq', 'Autos', 'Carry',\n",
       "       'Mines', 'Coal', 'Oil', 'Util', 'Telcm', 'Servs', 'BusEq', 'Paper',\n",
       "       'Trans', 'Whlsl', 'Rtail', 'Meals', 'Fin', 'Other'],\n",
       "      dtype='object')"
      ]
     },
     "execution_count": 4,
     "metadata": {},
     "output_type": "execute_result"
    }
   ],
   "source": [
    "ret.columns = ret.columns.str.strip() \n",
    "ret.columns "
   ]
  },
  {
   "cell_type": "code",
   "execution_count": 5,
   "id": "7dd81b9d-75fa-4d0d-b723-8e3d178efb94",
   "metadata": {},
   "outputs": [
    {
     "data": {
      "text/plain": [
       "Food     0.083784\n",
       "Beer     0.099543\n",
       "Smoke    0.126471\n",
       "Games    0.115264\n",
       "Books    0.024621\n",
       "Hshld    0.091162\n",
       "Clths    0.143118\n",
       "Hlth     0.089761\n",
       "Chems    0.106661\n",
       "Txtls    0.067471\n",
       "Cnstr    0.097344\n",
       "Steel    0.054575\n",
       "FabPr    0.128211\n",
       "ElcEq    0.106886\n",
       "Autos    0.122103\n",
       "Carry    0.111601\n",
       "Mines    0.095039\n",
       "Coal    -0.041202\n",
       "Oil      0.065834\n",
       "Util     0.087130\n",
       "Telcm    0.062732\n",
       "Servs    0.120181\n",
       "BusEq    0.124272\n",
       "Paper    0.079749\n",
       "Trans    0.108146\n",
       "Whlsl    0.095027\n",
       "Rtail    0.117099\n",
       "Meals    0.136763\n",
       "Fin      0.071039\n",
       "Other    0.050787\n",
       "dtype: float64"
      ]
     },
     "execution_count": 5,
     "metadata": {},
     "output_type": "execute_result"
    }
   ],
   "source": [
    "ret =ret/100\n",
    "n_years =ret[\"2002\":].shape[0]/12\n",
    "eret = ((1+ret[\"2002\":]).prod())**(1/n_years)-1\n",
    "eret \n"
   ]
  },
  {
   "cell_type": "code",
   "execution_count": 6,
   "id": "869bfe88-e1eb-4a29-be22-3994deb6073b",
   "metadata": {},
   "outputs": [
    {
     "data": {
      "text/plain": [
       "<Axes: >"
      ]
     },
     "execution_count": 6,
     "metadata": {},
     "output_type": "execute_result"
    },
    {
     "data": {
      "image/png": "[encoded data removed]",
      "text/plain": [
       "<Figure size 800x400 with 1 Axes>"
      ]
     },
     "metadata": {},
     "output_type": "display_data"
    }
   ],
   "source": [
    "eret.sort_values().plot.bar(figsize=(8,4)) \n",
    "#eret.sort_values().plot.line(figsize=(8,4))"
   ]
  },
  {
   "cell_type": "code",
   "execution_count": 7,
   "id": "8211ecac-1318-4b57-8c14-bef50d905471",
   "metadata": {},
   "outputs": [
    {
     "data": {
      "text/plain": [
       "(30, 30)"
      ]
     },
     "execution_count": 7,
     "metadata": {},
     "output_type": "execute_result"
    }
   ],
   "source": [
    "cov = ret[\"2002\":].cov()*12\n",
    "cov.shape\n"
   ]
  },
  {
   "cell_type": "code",
   "execution_count": 8,
   "id": "cca79c5b-a3c5-4882-8c9c-22d7221a184d",
   "metadata": {},
   "outputs": [
    {
     "data": {
      "text/html": [
       "<div>\n",
       "<style scoped>\n",
       "    .dataframe tbody tr th:only-of-type {\n",
       "        vertical-align: middle;\n",
       "    }\n",
       "\n",
       "    .dataframe tbody tr th {\n",
       "        vertical-align: top;\n",
       "    }\n",
       "\n",
       "    .dataframe thead th {\n",
       "        text-align: right;\n",
       "    }\n",
       "</style>\n",
       "<table border=\"1\" class=\"dataframe\">\n",
       "  <thead>\n",
       "    <tr style=\"text-align: right;\">\n",
       "      <th></th>\n",
       "      <th>Food</th>\n",
       "      <th>Beer</th>\n",
       "      <th>Smoke</th>\n",
       "      <th>Games</th>\n",
       "      <th>Books</th>\n",
       "      <th>Hshld</th>\n",
       "      <th>Clths</th>\n",
       "      <th>Hlth</th>\n",
       "      <th>Chems</th>\n",
       "      <th>Txtls</th>\n",
       "      <th>...</th>\n",
       "      <th>Telcm</th>\n",
       "      <th>Servs</th>\n",
       "      <th>BusEq</th>\n",
       "      <th>Paper</th>\n",
       "      <th>Trans</th>\n",
       "      <th>Whlsl</th>\n",
       "      <th>Rtail</th>\n",
       "      <th>Meals</th>\n",
       "      <th>Fin</th>\n",
       "      <th>Other</th>\n",
       "    </tr>\n",
       "  </thead>\n",
       "  <tbody>\n",
       "    <tr>\n",
       "      <th>Food</th>\n",
       "      <td>0.014584</td>\n",
       "      <td>0.011444</td>\n",
       "      <td>0.014720</td>\n",
       "      <td>0.018695</td>\n",
       "      <td>0.016820</td>\n",
       "      <td>0.011146</td>\n",
       "      <td>0.014478</td>\n",
       "      <td>0.010235</td>\n",
       "      <td>0.016717</td>\n",
       "      <td>0.021528</td>\n",
       "      <td>...</td>\n",
       "      <td>0.014347</td>\n",
       "      <td>0.013508</td>\n",
       "      <td>0.014819</td>\n",
       "      <td>0.013971</td>\n",
       "      <td>0.014024</td>\n",
       "      <td>0.014935</td>\n",
       "      <td>0.011871</td>\n",
       "      <td>0.012974</td>\n",
       "      <td>0.015314</td>\n",
       "      <td>0.013737</td>\n",
       "    </tr>\n",
       "    <tr>\n",
       "      <th>Beer</th>\n",
       "      <td>0.011444</td>\n",
       "      <td>0.017883</td>\n",
       "      <td>0.013826</td>\n",
       "      <td>0.013924</td>\n",
       "      <td>0.013194</td>\n",
       "      <td>0.011987</td>\n",
       "      <td>0.011975</td>\n",
       "      <td>0.010005</td>\n",
       "      <td>0.013547</td>\n",
       "      <td>0.016035</td>\n",
       "      <td>...</td>\n",
       "      <td>0.012279</td>\n",
       "      <td>0.010940</td>\n",
       "      <td>0.012070</td>\n",
       "      <td>0.012822</td>\n",
       "      <td>0.012322</td>\n",
       "      <td>0.012130</td>\n",
       "      <td>0.010532</td>\n",
       "      <td>0.011665</td>\n",
       "      <td>0.013083</td>\n",
       "      <td>0.012758</td>\n",
       "    </tr>\n",
       "    <tr>\n",
       "      <th>Smoke</th>\n",
       "      <td>0.014720</td>\n",
       "      <td>0.013826</td>\n",
       "      <td>0.045972</td>\n",
       "      <td>0.017741</td>\n",
       "      <td>0.017690</td>\n",
       "      <td>0.012106</td>\n",
       "      <td>0.013011</td>\n",
       "      <td>0.011872</td>\n",
       "      <td>0.014757</td>\n",
       "      <td>0.018106</td>\n",
       "      <td>...</td>\n",
       "      <td>0.016463</td>\n",
       "      <td>0.013424</td>\n",
       "      <td>0.016980</td>\n",
       "      <td>0.014890</td>\n",
       "      <td>0.014134</td>\n",
       "      <td>0.016097</td>\n",
       "      <td>0.009509</td>\n",
       "      <td>0.013073</td>\n",
       "      <td>0.015603</td>\n",
       "      <td>0.014752</td>\n",
       "    </tr>\n",
       "  </tbody>\n",
       "</table>\n",
       "<p>3 rows × 30 columns</p>\n",
       "</div>"
      ],
      "text/plain": [
       "           Food      Beer     Smoke     Games     Books     Hshld     Clths  \\\n",
       "Food   0.014584  0.011444  0.014720  0.018695  0.016820  0.011146  0.014478   \n",
       "Beer   0.011444  0.017883  0.013826  0.013924  0.013194  0.011987  0.011975   \n",
       "Smoke  0.014720  0.013826  0.045972  0.017741  0.017690  0.012106  0.013011   \n",
       "\n",
       "           Hlth     Chems     Txtls  ...     Telcm     Servs     BusEq  \\\n",
       "Food   0.010235  0.016717  0.021528  ...  0.014347  0.013508  0.014819   \n",
       "Beer   0.010005  0.013547  0.016035  ...  0.012279  0.010940  0.012070   \n",
       "Smoke  0.011872  0.014757  0.018106  ...  0.016463  0.013424  0.016980   \n",
       "\n",
       "          Paper     Trans     Whlsl     Rtail     Meals       Fin     Other  \n",
       "Food   0.013971  0.014024  0.014935  0.011871  0.012974  0.015314  0.013737  \n",
       "Beer   0.012822  0.012322  0.012130  0.010532  0.011665  0.013083  0.012758  \n",
       "Smoke  0.014890  0.014134  0.016097  0.009509  0.013073  0.015603  0.014752  \n",
       "\n",
       "[3 rows x 30 columns]"
      ]
     },
     "execution_count": 8,
     "metadata": {},
     "output_type": "execute_result"
    }
   ],
   "source": [
    "cov.head(3)\n"
   ]
  },
  {
   "cell_type": "markdown",
   "id": "f4b61533-d572-4f5a-a49d-dfbdcfda1480",
   "metadata": {},
   "source": [
    "## PORTFOLIO RETURN AND VOLATILITY"
   ]
  },
  {
   "cell_type": "code",
   "execution_count": 9,
   "id": "cdb639bc-b44a-4381-9342-100a15bf7853",
   "metadata": {},
   "outputs": [],
   "source": [
    "def port_ret(weights, ereturns):\n",
    "    \"\"\"\n",
    "    weights + expected returns = portfolio returns\n",
    "\n",
    "    \"\"\"\n",
    "    return weights.T@ereturns "
   ]
  },
  {
   "cell_type": "code",
   "execution_count": 20,
   "id": "8941bada-e98d-4c33-b27d-0859da170514",
   "metadata": {},
   "outputs": [],
   "source": [
    "def port_vol(weights, covmat):\n",
    "    \"\"\"\n",
    "    weights + covariance matrix = portfolio volatility\n",
    "    \"\"\"\n",
    "    return (weights.T@covmat@weights)**0.5"
   ]
  },
  {
   "cell_type": "code",
   "execution_count": 21,
   "id": "dda3990c-cfd1-427a-9c17-14fb656b2765",
   "metadata": {},
   "outputs": [
    {
     "data": {
      "text/plain": [
       "Food     0.083784\n",
       "Beer     0.099543\n",
       "Smoke    0.126471\n",
       "Games    0.115264\n",
       "dtype: float64"
      ]
     },
     "execution_count": 21,
     "metadata": {},
     "output_type": "execute_result"
    }
   ],
   "source": [
    "l = [\"Food\",\"Beer\",\"Smoke\",\"Games\"]\n",
    "eret[l]"
   ]
  },
  {
   "cell_type": "code",
   "execution_count": 22,
   "id": "8b706a11-21d9-4a78-aa0f-dbff28f5af93",
   "metadata": {},
   "outputs": [
    {
     "data": {
      "text/html": [
       "<div>\n",
       "<style scoped>\n",
       "    .dataframe tbody tr th:only-of-type {\n",
       "        vertical-align: middle;\n",
       "    }\n",
       "\n",
       "    .dataframe tbody tr th {\n",
       "        vertical-align: top;\n",
       "    }\n",
       "\n",
       "    .dataframe thead th {\n",
       "        text-align: right;\n",
       "    }\n",
       "</style>\n",
       "<table border=\"1\" class=\"dataframe\">\n",
       "  <thead>\n",
       "    <tr style=\"text-align: right;\">\n",
       "      <th></th>\n",
       "      <th>Food</th>\n",
       "      <th>Beer</th>\n",
       "      <th>Smoke</th>\n",
       "      <th>Games</th>\n",
       "    </tr>\n",
       "  </thead>\n",
       "  <tbody>\n",
       "    <tr>\n",
       "      <th>Food</th>\n",
       "      <td>0.014584</td>\n",
       "      <td>0.011444</td>\n",
       "      <td>0.014720</td>\n",
       "      <td>0.018695</td>\n",
       "    </tr>\n",
       "    <tr>\n",
       "      <th>Beer</th>\n",
       "      <td>0.011444</td>\n",
       "      <td>0.017883</td>\n",
       "      <td>0.013826</td>\n",
       "      <td>0.013924</td>\n",
       "    </tr>\n",
       "    <tr>\n",
       "      <th>Smoke</th>\n",
       "      <td>0.014720</td>\n",
       "      <td>0.013826</td>\n",
       "      <td>0.045972</td>\n",
       "      <td>0.017741</td>\n",
       "    </tr>\n",
       "    <tr>\n",
       "      <th>Games</th>\n",
       "      <td>0.018695</td>\n",
       "      <td>0.013924</td>\n",
       "      <td>0.017741</td>\n",
       "      <td>0.064248</td>\n",
       "    </tr>\n",
       "  </tbody>\n",
       "</table>\n",
       "</div>"
      ],
      "text/plain": [
       "           Food      Beer     Smoke     Games\n",
       "Food   0.014584  0.011444  0.014720  0.018695\n",
       "Beer   0.011444  0.017883  0.013826  0.013924\n",
       "Smoke  0.014720  0.013826  0.045972  0.017741\n",
       "Games  0.018695  0.013924  0.017741  0.064248"
      ]
     },
     "execution_count": 22,
     "metadata": {},
     "output_type": "execute_result"
    }
   ],
   "source": [
    "cov.loc[l,l]"
   ]
  },
  {
   "cell_type": "code",
   "execution_count": null,
   "id": "2294c15d-437f-4b97-9028-6c2b12676eef",
   "metadata": {},
   "outputs": [],
   "source": []
  },
  {
   "cell_type": "code",
   "execution_count": 23,
   "id": "bca9d368-9526-4dac-8aed-4dd830f2e824",
   "metadata": {},
   "outputs": [
    {
     "data": {
      "text/plain": [
       "array([0.25, 0.25, 0.25, 0.25])"
      ]
     },
     "execution_count": 23,
     "metadata": {},
     "output_type": "execute_result"
    }
   ],
   "source": [
    "w = np.repeat(0.25,4)\n",
    "w"
   ]
  },
  {
   "cell_type": "code",
   "execution_count": 24,
   "id": "55be1214-efdd-45c0-b95a-5b98b05fbfb2",
   "metadata": {},
   "outputs": [
    {
     "data": {
      "text/plain": [
       "0.10626554205342381"
      ]
     },
     "execution_count": 24,
     "metadata": {},
     "output_type": "execute_result"
    }
   ],
   "source": [
    "port_ret(w,eret[l])"
   ]
  },
  {
   "cell_type": "code",
   "execution_count": 25,
   "id": "3be0f111-3e7f-4c8b-8c61-72d2cb803754",
   "metadata": {},
   "outputs": [
    {
     "data": {
      "text/plain": [
       "0.1421674560754436"
      ]
     },
     "execution_count": 25,
     "metadata": {},
     "output_type": "execute_result"
    }
   ],
   "source": [
    "port_vol(w, cov.loc[l,l])"
   ]
  },
  {
   "cell_type": "markdown",
   "id": "97b815c1-d80f-4d0e-bf02-e957a02ce1c3",
   "metadata": {},
   "source": [
    "##  CASE OF TWO ASSETS"
   ]
  },
  {
   "cell_type": "code",
   "execution_count": 16,
   "id": "7c458dbf-bede-4f3f-b36e-5e9aa2c47dcd",
   "metadata": {},
   "outputs": [
    {
     "data": {
      "text/plain": [
       "[array([0., 1.]),\n",
       " array([0.05, 0.95]),\n",
       " array([0.1, 0.9]),\n",
       " array([0.15, 0.85]),\n",
       " array([0.2, 0.8]),\n",
       " array([0.25, 0.75]),\n",
       " array([0.3, 0.7]),\n",
       " array([0.35, 0.65]),\n",
       " array([0.4, 0.6]),\n",
       " array([0.45, 0.55]),\n",
       " array([0.5, 0.5]),\n",
       " array([0.55, 0.45]),\n",
       " array([0.6, 0.4]),\n",
       " array([0.65, 0.35]),\n",
       " array([0.7, 0.3]),\n",
       " array([0.75, 0.25]),\n",
       " array([0.8, 0.2]),\n",
       " array([0.85, 0.15]),\n",
       " array([0.9, 0.1]),\n",
       " array([0.95, 0.05]),\n",
       " array([1., 0.])]"
      ]
     },
     "execution_count": 16,
     "metadata": {},
     "output_type": "execute_result"
    }
   ],
   "source": [
    "n_points =21\n",
    "weights=[np.array([w,1-w]) for w in np.linspace(0,1,n_points)]\n",
    "weights"
   ]
  },
  {
   "cell_type": "code",
   "execution_count": 17,
   "id": "041fcb64-f330-4b0b-aa94-d3ab64fcd063",
   "metadata": {},
   "outputs": [
    {
     "ename": "TypeError",
     "evalue": "'tuple' object is not callable",
     "output_type": "error",
     "traceback": [
      "\u001b[1;31m---------------------------------------------------------------------------\u001b[0m",
      "\u001b[1;31mTypeError\u001b[0m                                 Traceback (most recent call last)",
      "Cell \u001b[1;32mIn[17], line 4\u001b[0m\n\u001b[0;32m      1\u001b[0m l \u001b[38;5;241m=\u001b[39m [\u001b[38;5;124m\"\u001b[39m\u001b[38;5;124mGames\u001b[39m\u001b[38;5;124m\"\u001b[39m, \u001b[38;5;124m\"\u001b[39m\u001b[38;5;124mBeer\u001b[39m\u001b[38;5;124m\"\u001b[39m]\n\u001b[0;32m      2\u001b[0m ereturns \u001b[38;5;241m=\u001b[39m [port_ret(w,eret[l]) \u001b[38;5;28;01mfor\u001b[39;00m  w \u001b[38;5;129;01min\u001b[39;00m weights]\n\u001b[1;32m----> 4\u001b[0m vols \u001b[38;5;241m=\u001b[39m [port_vol(w,cov\u001b[38;5;241m.\u001b[39mloc[l,l])\u001b[38;5;28;01mfor\u001b[39;00m w \u001b[38;5;129;01min\u001b[39;00m weights]\n",
      "\u001b[1;31mTypeError\u001b[0m: 'tuple' object is not callable"
     ]
    }
   ],
   "source": [
    "l = [\"Games\", \"Beer\"]\n",
    "ereturns = [port_ret(w,eret[l]) for  w in weights]\n",
    "\n",
    "vols = [port_vol(w,cov.loc[l,l])for w in weights]"
   ]
  },
  {
   "cell_type": "code",
   "execution_count": null,
   "id": "77735540-fed1-4ae1-8ede-846067e7773a",
   "metadata": {},
   "outputs": [],
   "source": [
    "ef = pd.DataFrame({\"Return\":ereturns,\"Risk\":vols})\n",
    "ef.head()"
   ]
  },
  {
   "cell_type": "code",
   "execution_count": null,
   "id": "f39780be-0367-4f29-846d-bc0f5ca1620f",
   "metadata": {},
   "outputs": [],
   "source": []
  }
 ],
 "metadata": {
  "kernelspec": {
   "display_name": "Python [conda env:base] *",
   "language": "python",
   "name": "conda-base-py"
  },
  "language_info": {
   "codemirror_mode": {
    "name": "ipython",
    "version": 3
   },
   "file_extension": ".py",
   "mimetype": "text/x-python",
   "name": "python",
   "nbconvert_exporter": "python",
   "pygments_lexer": "ipython3",
   "version": "3.12.4"
  }
 },
 "nbformat": 4,
 "nbformat_minor": 5
}
