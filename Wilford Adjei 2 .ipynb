{
 "cells": [
  {
   "cell_type": "markdown",
   "id": "1de92986-07dd-436f-9077-fa024629463a",
   "metadata": {},
   "source": [
    "# WEEK 2 - 01.27.2025"
   ]
  },
  {
   "cell_type": "markdown",
   "id": "e9aa4cb0-ebe7-4cb1-a402-0efc80842fe8",
   "metadata": {},
   "source": [
    "# 1.Sharp Ratio\n",
    "# 2.Measure of downside Risk"
   ]
  },
  {
   "cell_type": "code",
   "execution_count": 6,
   "id": "dee2a33e-11bc-4dd6-ae1f-f2ce545a05b9",
   "metadata": {},
   "outputs": [],
   "source": [
    "%load_ext autoreload \n",
    "%autoreload"
   ]
  },
  {
   "cell_type": "code",
   "execution_count": 10,
   "id": "d1f549f0-b3da-4aa6-a083-7da862e51a6c",
   "metadata": {},
   "outputs": [],
   "source": [
    "import numpy as np \n",
    "import pandas as pd \n",
    "\n",
    "import matplotlib.pyplot as plt \n",
    "\n",
    "import scipy.stats as scs "
   ]
  },
  {
   "cell_type": "code",
   "execution_count": 12,
   "id": "b480da10-785b-4636-8634-6fc32d8ae0ae",
   "metadata": {},
   "outputs": [
    {
     "name": "stderr",
     "output_type": "stream",
     "text": [
      "C:\\Users\\wilfo\\AppData\\Local\\Temp\\ipykernel_21732\\2905492096.py:1: UserWarning: Could not infer format, so each element will be parsed individually, falling back to `dateutil`. To ensure parsing is consistent and as-expected, please specify a format.\n",
      "  returns = pd.read_csv(\"data2_Portfolios_Formed_on_ME_EW_monthly.csv\",header=0, index_col=0, parse_dates=True, na_values=99.99)\n"
     ]
    }
   ],
   "source": [
    "returns = pd.read_csv(\"data2_Portfolios_Formed_on_ME_EW_monthly.csv\",header=0, index_col=0, parse_dates=True, na_values=99.99)"
   ]
  },
  {
   "cell_type": "code",
   "execution_count": 14,
   "id": "c47b0f8b-4679-4145-96e1-a9ef3980da77",
   "metadata": {},
   "outputs": [
    {
     "data": {
      "text/html": [
       "<div>\n",
       "<style scoped>\n",
       "    .dataframe tbody tr th:only-of-type {\n",
       "        vertical-align: middle;\n",
       "    }\n",
       "\n",
       "    .dataframe tbody tr th {\n",
       "        vertical-align: top;\n",
       "    }\n",
       "\n",
       "    .dataframe thead th {\n",
       "        text-align: right;\n",
       "    }\n",
       "</style>\n",
       "<table border=\"1\" class=\"dataframe\">\n",
       "  <thead>\n",
       "    <tr style=\"text-align: right;\">\n",
       "      <th></th>\n",
       "      <th>&lt;= 0</th>\n",
       "      <th>Lo 30</th>\n",
       "      <th>Med 40</th>\n",
       "      <th>Hi 30</th>\n",
       "      <th>Lo 20</th>\n",
       "      <th>Qnt 2</th>\n",
       "      <th>Qnt 3</th>\n",
       "      <th>Qnt 4</th>\n",
       "      <th>Hi 20</th>\n",
       "      <th>Lo 10</th>\n",
       "      <th>2-Dec</th>\n",
       "      <th>3-Dec</th>\n",
       "      <th>4-Dec</th>\n",
       "      <th>5-Dec</th>\n",
       "      <th>6-Dec</th>\n",
       "      <th>7-Dec</th>\n",
       "      <th>8-Dec</th>\n",
       "      <th>9-Dec</th>\n",
       "      <th>Hi 10</th>\n",
       "    </tr>\n",
       "  </thead>\n",
       "  <tbody>\n",
       "    <tr>\n",
       "      <th>192607</th>\n",
       "      <td>-99.99</td>\n",
       "      <td>-0.43</td>\n",
       "      <td>1.46</td>\n",
       "      <td>2.66</td>\n",
       "      <td>-0.57</td>\n",
       "      <td>0.37</td>\n",
       "      <td>1.71</td>\n",
       "      <td>1.49</td>\n",
       "      <td>3.27</td>\n",
       "      <td>-1.42</td>\n",
       "      <td>0.29</td>\n",
       "      <td>-0.15</td>\n",
       "      <td>0.88</td>\n",
       "      <td>1.48</td>\n",
       "      <td>1.94</td>\n",
       "      <td>1.54</td>\n",
       "      <td>1.44</td>\n",
       "      <td>3.06</td>\n",
       "      <td>3.48</td>\n",
       "    </tr>\n",
       "    <tr>\n",
       "      <th>192608</th>\n",
       "      <td>-99.99</td>\n",
       "      <td>3.74</td>\n",
       "      <td>3.03</td>\n",
       "      <td>2.09</td>\n",
       "      <td>3.60</td>\n",
       "      <td>3.64</td>\n",
       "      <td>3.67</td>\n",
       "      <td>1.56</td>\n",
       "      <td>2.35</td>\n",
       "      <td>4.61</td>\n",
       "      <td>2.59</td>\n",
       "      <td>4.03</td>\n",
       "      <td>3.24</td>\n",
       "      <td>2.50</td>\n",
       "      <td>4.85</td>\n",
       "      <td>1.54</td>\n",
       "      <td>1.57</td>\n",
       "      <td>1.18</td>\n",
       "      <td>3.52</td>\n",
       "    </tr>\n",
       "    <tr>\n",
       "      <th>192609</th>\n",
       "      <td>-99.99</td>\n",
       "      <td>-1.07</td>\n",
       "      <td>-0.48</td>\n",
       "      <td>0.01</td>\n",
       "      <td>-0.48</td>\n",
       "      <td>-1.55</td>\n",
       "      <td>0.03</td>\n",
       "      <td>-0.41</td>\n",
       "      <td>-0.15</td>\n",
       "      <td>0.91</td>\n",
       "      <td>-1.87</td>\n",
       "      <td>-2.27</td>\n",
       "      <td>-0.84</td>\n",
       "      <td>0.13</td>\n",
       "      <td>-0.08</td>\n",
       "      <td>-1.15</td>\n",
       "      <td>0.32</td>\n",
       "      <td>-1.00</td>\n",
       "      <td>0.68</td>\n",
       "    </tr>\n",
       "  </tbody>\n",
       "</table>\n",
       "</div>"
      ],
      "text/plain": [
       "         <= 0  Lo 30  Med 40  Hi 30  Lo 20  Qnt 2  Qnt 3  Qnt 4  Hi 20  Lo 10  \\\n",
       "192607 -99.99  -0.43    1.46   2.66  -0.57   0.37   1.71   1.49   3.27  -1.42   \n",
       "192608 -99.99   3.74    3.03   2.09   3.60   3.64   3.67   1.56   2.35   4.61   \n",
       "192609 -99.99  -1.07   -0.48   0.01  -0.48  -1.55   0.03  -0.41  -0.15   0.91   \n",
       "\n",
       "        2-Dec  3-Dec  4-Dec  5-Dec  6-Dec  7-Dec  8-Dec  9-Dec  Hi 10  \n",
       "192607   0.29  -0.15   0.88   1.48   1.94   1.54   1.44   3.06   3.48  \n",
       "192608   2.59   4.03   3.24   2.50   4.85   1.54   1.57   1.18   3.52  \n",
       "192609  -1.87  -2.27  -0.84   0.13  -0.08  -1.15   0.32  -1.00   0.68  "
      ]
     },
     "execution_count": 14,
     "metadata": {},
     "output_type": "execute_result"
    }
   ],
   "source": [
    "returns.head(3)"
   ]
  },
  {
   "cell_type": "code",
   "execution_count": 16,
   "id": "85c5271f-cca2-410a-bfcb-50bb62112ef2",
   "metadata": {},
   "outputs": [
    {
     "data": {
      "text/html": [
       "<div>\n",
       "<style scoped>\n",
       "    .dataframe tbody tr th:only-of-type {\n",
       "        vertical-align: middle;\n",
       "    }\n",
       "\n",
       "    .dataframe tbody tr th {\n",
       "        vertical-align: top;\n",
       "    }\n",
       "\n",
       "    .dataframe thead th {\n",
       "        text-align: right;\n",
       "    }\n",
       "</style>\n",
       "<table border=\"1\" class=\"dataframe\">\n",
       "  <thead>\n",
       "    <tr style=\"text-align: right;\">\n",
       "      <th></th>\n",
       "      <th>Lo 10</th>\n",
       "      <th>Hi 10</th>\n",
       "    </tr>\n",
       "  </thead>\n",
       "  <tbody>\n",
       "    <tr>\n",
       "      <th>192607</th>\n",
       "      <td>-1.42</td>\n",
       "      <td>3.48</td>\n",
       "    </tr>\n",
       "    <tr>\n",
       "      <th>192608</th>\n",
       "      <td>4.61</td>\n",
       "      <td>3.52</td>\n",
       "    </tr>\n",
       "    <tr>\n",
       "      <th>192609</th>\n",
       "      <td>0.91</td>\n",
       "      <td>0.68</td>\n",
       "    </tr>\n",
       "  </tbody>\n",
       "</table>\n",
       "</div>"
      ],
      "text/plain": [
       "        Lo 10  Hi 10\n",
       "192607  -1.42   3.48\n",
       "192608   4.61   3.52\n",
       "192609   0.91   0.68"
      ]
     },
     "execution_count": 16,
     "metadata": {},
     "output_type": "execute_result"
    }
   ],
   "source": [
    "columns = ['Lo 10', 'Hi 10']\n",
    "returns = returns[columns]\n",
    "returns.head(3)"
   ]
  },
  {
   "cell_type": "code",
   "execution_count": 18,
   "id": "ee908757-7393-4f3a-83c5-e897c85dc03e",
   "metadata": {},
   "outputs": [
    {
     "data": {
      "text/html": [
       "<div>\n",
       "<style scoped>\n",
       "    .dataframe tbody tr th:only-of-type {\n",
       "        vertical-align: middle;\n",
       "    }\n",
       "\n",
       "    .dataframe tbody tr th {\n",
       "        vertical-align: top;\n",
       "    }\n",
       "\n",
       "    .dataframe thead th {\n",
       "        text-align: right;\n",
       "    }\n",
       "</style>\n",
       "<table border=\"1\" class=\"dataframe\">\n",
       "  <thead>\n",
       "    <tr style=\"text-align: right;\">\n",
       "      <th></th>\n",
       "      <th>smallCap</th>\n",
       "      <th>LargeCap</th>\n",
       "    </tr>\n",
       "  </thead>\n",
       "  <tbody>\n",
       "    <tr>\n",
       "      <th>192607</th>\n",
       "      <td>-0.0142</td>\n",
       "      <td>0.0348</td>\n",
       "    </tr>\n",
       "    <tr>\n",
       "      <th>192608</th>\n",
       "      <td>0.0461</td>\n",
       "      <td>0.0352</td>\n",
       "    </tr>\n",
       "    <tr>\n",
       "      <th>192609</th>\n",
       "      <td>0.0091</td>\n",
       "      <td>0.0068</td>\n",
       "    </tr>\n",
       "  </tbody>\n",
       "</table>\n",
       "</div>"
      ],
      "text/plain": [
       "        smallCap  LargeCap\n",
       "192607   -0.0142    0.0348\n",
       "192608    0.0461    0.0352\n",
       "192609    0.0091    0.0068"
      ]
     },
     "execution_count": 18,
     "metadata": {},
     "output_type": "execute_result"
    }
   ],
   "source": [
    "returns = returns/100\n",
    "returns.columns = ['smallCap','LargeCap']\n",
    "returns.head(3)"
   ]
  },
  {
   "cell_type": "code",
   "execution_count": 20,
   "id": "a0049987-536d-46b1-9084-ba6ea61604f1",
   "metadata": {},
   "outputs": [
    {
     "data": {
      "text/plain": [
       "<Axes: >"
      ]
     },
     "execution_count": 20,
     "metadata": {},
     "output_type": "execute_result"
    },
    {
     "data": {
      "image/png": "[encoded data removed]",
      "text/plain": [
       "<Figure size 640x480 with 1 Axes>"
      ]
     },
     "metadata": {},
     "output_type": "display_data"
    }
   ],
   "source": [
    "returns.plot()"
   ]
  },
  {
   "cell_type": "code",
   "execution_count": 22,
   "id": "5aaa36a5-fe73-4444-a9fd-d261c21e381c",
   "metadata": {},
   "outputs": [
    {
     "data": {
      "text/plain": [
       "smallCap    0.365563\n",
       "LargeCap    0.186470\n",
       "dtype: float64"
      ]
     },
     "execution_count": 22,
     "metadata": {},
     "output_type": "execute_result"
    }
   ],
   "source": [
    "annual_vol = returns.std() * np.sqrt(12)\n",
    "annual_vol"
   ]
  },
  {
   "cell_type": "code",
   "execution_count": 24,
   "id": "7ecd5fbb-9802-48bf-a9ce-97504f939d9a",
   "metadata": {},
   "outputs": [
    {
     "data": {
      "text/plain": [
       "(1145, 2)"
      ]
     },
     "execution_count": 24,
     "metadata": {},
     "output_type": "execute_result"
    }
   ],
   "source": [
    "returns.shape"
   ]
  },
  {
   "cell_type": "code",
   "execution_count": 26,
   "id": "d157a8d4-16e5-4d62-861f-31319bb2e1ee",
   "metadata": {},
   "outputs": [
    {
     "data": {
      "text/plain": [
       "95.41666666666667"
      ]
     },
     "execution_count": 26,
     "metadata": {},
     "output_type": "execute_result"
    }
   ],
   "source": [
    "n_months = returns.shape[0]\n",
    "n_years = n_months/12\n",
    "n_years"
   ]
  },
  {
   "cell_type": "code",
   "execution_count": 28,
   "id": "48a64fdb-0b73-4a02-acc5-81031694f760",
   "metadata": {},
   "outputs": [
    {
     "data": {
      "text/plain": [
       "smallCap    0.172696\n",
       "LargeCap    0.096613\n",
       "dtype: float64"
      ]
     },
     "execution_count": 28,
     "metadata": {},
     "output_type": "execute_result"
    }
   ],
   "source": [
    "annual_ret = (1+returns).prod() ** (1/n_years) - 1\n",
    "annual_ret"
   ]
  },
  {
   "cell_type": "code",
   "execution_count": 30,
   "id": "5fc897ff-9326-4cdc-b36e-4023ddaf82bb",
   "metadata": {},
   "outputs": [
    {
     "data": {
      "text/plain": [
       "smallCap    0.390345\n",
       "LargeCap    0.357229\n",
       "dtype: float64"
      ]
     },
     "execution_count": 30,
     "metadata": {},
     "output_type": "execute_result"
    }
   ],
   "source": [
    "rf = 0.03\n",
    "sharpe_ratio = (annual_ret- rf)/annual_vol\n",
    "sharpe_ratio"
   ]
  },
  {
   "cell_type": "code",
   "execution_count": 32,
   "id": "762b6b4d-673d-4fff-975e-a13665e3940f",
   "metadata": {},
   "outputs": [
    {
     "data": {
      "text/plain": [
       "array([4.32602503, 0.21217585])"
      ]
     },
     "execution_count": 32,
     "metadata": {},
     "output_type": "execute_result"
    }
   ],
   "source": [
    "scs.skew(returns)"
   ]
  },
  {
   "cell_type": "code",
   "execution_count": 34,
   "id": "95badbda-753b-4052-838c-2c1c450e0557",
   "metadata": {},
   "outputs": [
    {
     "data": {
      "text/plain": [
       "array([43.26219757,  7.52011156])"
      ]
     },
     "execution_count": 34,
     "metadata": {},
     "output_type": "execute_result"
    }
   ],
   "source": [
    "scs.kurtosis (returns)"
   ]
  },
  {
   "cell_type": "markdown",
   "id": "a5128ab1-862d-431c-846d-96991fecfc84",
   "metadata": {},
   "source": [
    "## MEASURE OF DOWNSIDE RISK"
   ]
  },
  {
   "cell_type": "markdown",
   "id": "4b5a65c8-97b1-4d63-a88e-aa5fdc1437c2",
   "metadata": {},
   "source": [
    "## 1. SEMI DEVIATION"
   ]
  },
  {
   "cell_type": "code",
   "execution_count": 36,
   "id": "d7d8e008-4d6e-433b-ad80-f9431124e923",
   "metadata": {},
   "outputs": [
    {
     "data": {
      "text/plain": [
       "smallCap    0.105529\n",
       "LargeCap    0.053829\n",
       "dtype: float64"
      ]
     },
     "execution_count": 36,
     "metadata": {},
     "output_type": "execute_result"
    }
   ],
   "source": [
    "returns.std()"
   ]
  },
  {
   "cell_type": "code",
   "execution_count": 119,
   "id": "aa7e6b3b-2b3b-49a0-8378-ffcfe9b9bea2",
   "metadata": {},
   "outputs": [
    {
     "data": {
      "text/plain": [
       "smallCap    0.051923\n",
       "LargeCap    0.040267\n",
       "dtype: float64"
      ]
     },
     "execution_count": 119,
     "metadata": {},
     "output_type": "execute_result"
    }
   ],
   "source": [
    "returns[returns<0].std()"
   ]
  },
  {
   "cell_type": "code",
   "execution_count": 40,
   "id": "5b80e667-5593-476b-aae2-c2fd57802e3c",
   "metadata": {},
   "outputs": [
    {
     "data": {
      "text/html": [
       "<div>\n",
       "<style scoped>\n",
       "    .dataframe tbody tr th:only-of-type {\n",
       "        vertical-align: middle;\n",
       "    }\n",
       "\n",
       "    .dataframe tbody tr th {\n",
       "        vertical-align: top;\n",
       "    }\n",
       "\n",
       "    .dataframe thead th {\n",
       "        text-align: right;\n",
       "    }\n",
       "</style>\n",
       "<table border=\"1\" class=\"dataframe\">\n",
       "  <thead>\n",
       "    <tr style=\"text-align: right;\">\n",
       "      <th></th>\n",
       "      <th>smallCap</th>\n",
       "      <th>LargeCap</th>\n",
       "    </tr>\n",
       "  </thead>\n",
       "  <tbody>\n",
       "    <tr>\n",
       "      <th>192607</th>\n",
       "      <td>True</td>\n",
       "      <td>False</td>\n",
       "    </tr>\n",
       "    <tr>\n",
       "      <th>192608</th>\n",
       "      <td>False</td>\n",
       "      <td>False</td>\n",
       "    </tr>\n",
       "    <tr>\n",
       "      <th>192609</th>\n",
       "      <td>False</td>\n",
       "      <td>False</td>\n",
       "    </tr>\n",
       "    <tr>\n",
       "      <th>192610</th>\n",
       "      <td>True</td>\n",
       "      <td>True</td>\n",
       "    </tr>\n",
       "    <tr>\n",
       "      <th>192611</th>\n",
       "      <td>True</td>\n",
       "      <td>False</td>\n",
       "    </tr>\n",
       "    <tr>\n",
       "      <th>...</th>\n",
       "      <td>...</td>\n",
       "      <td>...</td>\n",
       "    </tr>\n",
       "    <tr>\n",
       "      <th>202107</th>\n",
       "      <td>True</td>\n",
       "      <td>False</td>\n",
       "    </tr>\n",
       "    <tr>\n",
       "      <th>202108</th>\n",
       "      <td>False</td>\n",
       "      <td>False</td>\n",
       "    </tr>\n",
       "    <tr>\n",
       "      <th>202109</th>\n",
       "      <td>True</td>\n",
       "      <td>True</td>\n",
       "    </tr>\n",
       "    <tr>\n",
       "      <th>202110</th>\n",
       "      <td>True</td>\n",
       "      <td>False</td>\n",
       "    </tr>\n",
       "    <tr>\n",
       "      <th>202111</th>\n",
       "      <td>True</td>\n",
       "      <td>True</td>\n",
       "    </tr>\n",
       "  </tbody>\n",
       "</table>\n",
       "<p>1145 rows × 2 columns</p>\n",
       "</div>"
      ],
      "text/plain": [
       "        smallCap  LargeCap\n",
       "192607      True     False\n",
       "192608     False     False\n",
       "192609     False     False\n",
       "192610      True      True\n",
       "192611      True     False\n",
       "...          ...       ...\n",
       "202107      True     False\n",
       "202108     False     False\n",
       "202109      True      True\n",
       "202110      True     False\n",
       "202111      True      True\n",
       "\n",
       "[1145 rows x 2 columns]"
      ]
     },
     "execution_count": 40,
     "metadata": {},
     "output_type": "execute_result"
    }
   ],
   "source": [
    "returns<0"
   ]
  },
  {
   "cell_type": "code",
   "execution_count": 42,
   "id": "ebd0f1ca-6c9f-4506-8b4b-043a15e6d988",
   "metadata": {},
   "outputs": [
    {
     "data": {
      "text/plain": [
       "smallCap    0.051923\n",
       "LargeCap    0.040267\n",
       "dtype: float64"
      ]
     },
     "execution_count": 42,
     "metadata": {},
     "output_type": "execute_result"
    }
   ],
   "source": [
    "returns[returns<0].std()"
   ]
  },
  {
   "cell_type": "markdown",
   "id": "6393871c-831a-4caa-8d65-e239972ab6ff",
   "metadata": {},
   "source": [
    "## 2. VALUE AT RISK"
   ]
  },
  {
   "cell_type": "code",
   "execution_count": 45,
   "id": "8c25d173-4352-4ab1-b00d-e5a591416712",
   "metadata": {},
   "outputs": [
    {
     "data": {
      "text/plain": [
       "array([-0.089105, -0.07175 ])"
      ]
     },
     "execution_count": 45,
     "metadata": {},
     "output_type": "execute_result"
    }
   ],
   "source": [
    "np.percentile (returns[-240:],5,axis=0)"
   ]
  },
  {
   "cell_type": "code",
   "execution_count": 47,
   "id": "de69e5d1-e5e6-4d9d-9f98-fd05965263fd",
   "metadata": {},
   "outputs": [
    {
     "data": {
      "text/plain": [
       "-1.6448536269514729"
      ]
     },
     "execution_count": 47,
     "metadata": {},
     "output_type": "execute_result"
    }
   ],
   "source": [
    "z = scs.norm.ppf(0.05)\n",
    "z"
   ]
  },
  {
   "cell_type": "code",
   "execution_count": 61,
   "id": "4aa94f8d-9e55-476f-b0e4-1b6469ce2c06",
   "metadata": {},
   "outputs": [
    {
     "data": {
      "text/plain": [
       "smallCap    0.155646\n",
       "LargeCap    0.079383\n",
       "dtype: float64"
      ]
     },
     "execution_count": 61,
     "metadata": {},
     "output_type": "execute_result"
    }
   ],
   "source": [
    "var_norm = -1 * (returns.mean() + z*returns.std())\n",
    "var_norm"
   ]
  },
  {
   "cell_type": "markdown",
   "id": "3f8b5eb3-54ee-416f-8624-3a15de4e5207",
   "metadata": {},
   "source": [
    "## 3. MAX DRAWDOWN"
   ]
  },
  {
   "cell_type": "code",
   "execution_count": 123,
   "id": "250788d1-3a3f-4c49-9743-3d4aa8d8def1",
   "metadata": {},
   "outputs": [
    {
     "data": {
      "text/plain": [
       "PeriodIndex(['1926-07', '1926-08', '1926-09', '1926-10', '1926-11', '1926-12',\n",
       "             '1927-01', '1927-02', '1927-03', '1927-04',\n",
       "             ...\n",
       "             '2021-02', '2021-03', '2021-04', '2021-05', '2021-06', '2021-07',\n",
       "             '2021-08', '2021-09', '2021-10', '2021-11'],\n",
       "            dtype='period[M]', length=1145)"
      ]
     },
     "execution_count": 123,
     "metadata": {},
     "output_type": "execute_result"
    }
   ],
   "source": [
    "returns.index = returns.index.to_timestamp().to_period('M')\n",
    "returns.index"
   ]
  },
  {
   "cell_type": "code",
   "execution_count": 117,
   "id": "412fc743-5abd-4ada-a692-34c3920bb22b",
   "metadata": {},
   "outputs": [
    {
     "data": {
      "text/plain": [
       "<Axes: >"
      ]
     },
     "execution_count": 117,
     "metadata": {},
     "output_type": "execute_result"
    },
    {
     "data": {
      "image/png": "[encoded data removed]",
      "text/plain": [
       "<Figure size 640x480 with 1 Axes>"
      ]
     },
     "metadata": {},
     "output_type": "display_data"
    }
   ],
   "source": [
    "returns ['1980':]\n",
    "\n",
    "wealth = (1 + returns['LargeCap']).cumprod()\n",
    "wealth['1980':].plot()"
   ]
  },
  {
   "cell_type": "code",
   "execution_count": 73,
   "id": "08fbcd7e-7138-4fe2-9e8e-b5f84dd3e159",
   "metadata": {},
   "outputs": [
    {
     "data": {
      "text/plain": [
       "<Axes: >"
      ]
     },
     "execution_count": 73,
     "metadata": {},
     "output_type": "execute_result"
    },
    {
     "data": {
      "image/png": "[encoded data removed]",
      "text/plain": [
       "<Figure size 640x480 with 1 Axes>"
      ]
     },
     "metadata": {},
     "output_type": "display_data"
    }
   ],
   "source": [
    "lastpeak = wealth.cummax()\n",
    "lastpeak['1980':].plot()"
   ]
  },
  {
   "cell_type": "code",
   "execution_count": 75,
   "id": "7f72d3e3-a6b4-4004-badf-c64b020a85c8",
   "metadata": {},
   "outputs": [
    {
     "data": {
      "text/plain": [
       "<Axes: >"
      ]
     },
     "execution_count": 75,
     "metadata": {},
     "output_type": "execute_result"
    },
    {
     "data": {
      "image/png": "[encoded data removed]",
      "text/plain": [
       "<Figure size 640x480 with 1 Axes>"
      ]
     },
     "metadata": {},
     "output_type": "display_data"
    }
   ],
   "source": [
    "drawdown =(wealth - lastpeak)/lastpeak\n",
    "drawdown['1980':].plot()"
   ]
  },
  {
   "cell_type": "code",
   "execution_count": null,
   "id": "bd170586-991e-4584-bebf-2ecc2bec3170",
   "metadata": {},
   "outputs": [],
   "source": []
  }
 ],
 "metadata": {
  "kernelspec": {
   "display_name": "Python [conda env:base] *",
   "language": "python",
   "name": "conda-base-py"
  },
  "language_info": {
   "codemirror_mode": {
    "name": "ipython",
    "version": 3
   },
   "file_extension": ".py",
   "mimetype": "text/x-python",
   "name": "python",
   "nbconvert_exporter": "python",
   "pygments_lexer": "ipython3",
   "version": "3.12.4"
  }
 },
 "nbformat": 4,
 "nbformat_minor": 5
}
