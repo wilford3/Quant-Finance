{
 "cells": [
  {
   "cell_type": "markdown",
   "id": "3b7b4f1a-e00d-46f3-89a1-aa70b12c8604",
   "metadata": {},
   "source": [
    "# WEEK 4: PORTFOLIO OPTIMIZATION "
   ]
  },
  {
   "cell_type": "code",
   "execution_count": 1,
   "id": "3cc739fa-7800-4849-b915-34c790e955d7",
   "metadata": {},
   "outputs": [],
   "source": [
    "import numpy as np \n",
    "import pandas as pd\n",
    "import matplotlib.pyplot as plt\n"
   ]
  },
  {
   "cell_type": "code",
   "execution_count": 9,
   "id": "17c3d136-a391-42c3-852a-c456c0c5c27e",
   "metadata": {},
   "outputs": [
    {
     "data": {
      "text/html": [
       "<div>\n",
       "<style scoped>\n",
       "    .dataframe tbody tr th:only-of-type {\n",
       "        vertical-align: middle;\n",
       "    }\n",
       "\n",
       "    .dataframe tbody tr th {\n",
       "        vertical-align: top;\n",
       "    }\n",
       "\n",
       "    .dataframe thead th {\n",
       "        text-align: right;\n",
       "    }\n",
       "</style>\n",
       "<table border=\"1\" class=\"dataframe\">\n",
       "  <thead>\n",
       "    <tr style=\"text-align: right;\">\n",
       "      <th></th>\n",
       "      <th>Food</th>\n",
       "      <th>Beer</th>\n",
       "      <th>Smoke</th>\n",
       "      <th>Games</th>\n",
       "      <th>Books</th>\n",
       "      <th>Hshld</th>\n",
       "      <th>Clths</th>\n",
       "      <th>Hlth</th>\n",
       "      <th>Chems</th>\n",
       "      <th>Txtls</th>\n",
       "      <th>...</th>\n",
       "      <th>Telcm</th>\n",
       "      <th>Servs</th>\n",
       "      <th>BusEq</th>\n",
       "      <th>Paper</th>\n",
       "      <th>Trans</th>\n",
       "      <th>Whlsl</th>\n",
       "      <th>Rtail</th>\n",
       "      <th>Meals</th>\n",
       "      <th>Fin</th>\n",
       "      <th>Other</th>\n",
       "    </tr>\n",
       "  </thead>\n",
       "  <tbody>\n",
       "    <tr>\n",
       "      <th>1926-07</th>\n",
       "      <td>0.0056</td>\n",
       "      <td>-0.0519</td>\n",
       "      <td>0.0129</td>\n",
       "      <td>0.0293</td>\n",
       "      <td>0.1097</td>\n",
       "      <td>-0.0048</td>\n",
       "      <td>0.0808</td>\n",
       "      <td>0.0177</td>\n",
       "      <td>0.0814</td>\n",
       "      <td>0.0039</td>\n",
       "      <td>...</td>\n",
       "      <td>0.0083</td>\n",
       "      <td>0.0922</td>\n",
       "      <td>0.0206</td>\n",
       "      <td>0.0770</td>\n",
       "      <td>0.0191</td>\n",
       "      <td>-0.2379</td>\n",
       "      <td>0.0007</td>\n",
       "      <td>0.0187</td>\n",
       "      <td>-0.0002</td>\n",
       "      <td>0.0520</td>\n",
       "    </tr>\n",
       "    <tr>\n",
       "      <th>1926-08</th>\n",
       "      <td>0.0259</td>\n",
       "      <td>0.2703</td>\n",
       "      <td>0.0650</td>\n",
       "      <td>0.0055</td>\n",
       "      <td>0.1001</td>\n",
       "      <td>-0.0358</td>\n",
       "      <td>-0.0251</td>\n",
       "      <td>0.0425</td>\n",
       "      <td>0.0550</td>\n",
       "      <td>0.0797</td>\n",
       "      <td>...</td>\n",
       "      <td>0.0217</td>\n",
       "      <td>0.0202</td>\n",
       "      <td>0.0439</td>\n",
       "      <td>-0.0238</td>\n",
       "      <td>0.0485</td>\n",
       "      <td>0.0539</td>\n",
       "      <td>-0.0075</td>\n",
       "      <td>-0.0013</td>\n",
       "      <td>0.0447</td>\n",
       "      <td>0.0676</td>\n",
       "    </tr>\n",
       "    <tr>\n",
       "      <th>1926-09</th>\n",
       "      <td>0.0116</td>\n",
       "      <td>0.0402</td>\n",
       "      <td>0.0126</td>\n",
       "      <td>0.0658</td>\n",
       "      <td>-0.0099</td>\n",
       "      <td>0.0073</td>\n",
       "      <td>-0.0051</td>\n",
       "      <td>0.0069</td>\n",
       "      <td>0.0533</td>\n",
       "      <td>0.0230</td>\n",
       "      <td>...</td>\n",
       "      <td>0.0241</td>\n",
       "      <td>0.0225</td>\n",
       "      <td>0.0019</td>\n",
       "      <td>-0.0554</td>\n",
       "      <td>0.0007</td>\n",
       "      <td>-0.0787</td>\n",
       "      <td>0.0025</td>\n",
       "      <td>-0.0056</td>\n",
       "      <td>-0.0161</td>\n",
       "      <td>-0.0386</td>\n",
       "    </tr>\n",
       "    <tr>\n",
       "      <th>1926-10</th>\n",
       "      <td>-0.0306</td>\n",
       "      <td>-0.0331</td>\n",
       "      <td>0.0106</td>\n",
       "      <td>-0.0476</td>\n",
       "      <td>0.0947</td>\n",
       "      <td>-0.0468</td>\n",
       "      <td>0.0012</td>\n",
       "      <td>-0.0057</td>\n",
       "      <td>-0.0476</td>\n",
       "      <td>0.0100</td>\n",
       "      <td>...</td>\n",
       "      <td>-0.0011</td>\n",
       "      <td>-0.0200</td>\n",
       "      <td>-0.0109</td>\n",
       "      <td>-0.0508</td>\n",
       "      <td>-0.0261</td>\n",
       "      <td>-0.1538</td>\n",
       "      <td>-0.0220</td>\n",
       "      <td>-0.0411</td>\n",
       "      <td>-0.0551</td>\n",
       "      <td>-0.0849</td>\n",
       "    </tr>\n",
       "    <tr>\n",
       "      <th>1926-11</th>\n",
       "      <td>0.0635</td>\n",
       "      <td>0.0729</td>\n",
       "      <td>0.0455</td>\n",
       "      <td>0.0166</td>\n",
       "      <td>-0.0580</td>\n",
       "      <td>-0.0054</td>\n",
       "      <td>0.0187</td>\n",
       "      <td>0.0542</td>\n",
       "      <td>0.0520</td>\n",
       "      <td>0.0310</td>\n",
       "      <td>...</td>\n",
       "      <td>0.0163</td>\n",
       "      <td>0.0377</td>\n",
       "      <td>0.0364</td>\n",
       "      <td>0.0384</td>\n",
       "      <td>0.0161</td>\n",
       "      <td>0.0467</td>\n",
       "      <td>0.0652</td>\n",
       "      <td>0.0433</td>\n",
       "      <td>0.0234</td>\n",
       "      <td>0.0400</td>\n",
       "    </tr>\n",
       "  </tbody>\n",
       "</table>\n",
       "<p>5 rows × 30 columns</p>\n",
       "</div>"
      ],
      "text/plain": [
       "           Food    Beer   Smoke   Games   Books   Hshld   Clths    Hlth  \\\n",
       "1926-07  0.0056 -0.0519  0.0129  0.0293  0.1097 -0.0048  0.0808  0.0177   \n",
       "1926-08  0.0259  0.2703  0.0650  0.0055  0.1001 -0.0358 -0.0251  0.0425   \n",
       "1926-09  0.0116  0.0402  0.0126  0.0658 -0.0099  0.0073 -0.0051  0.0069   \n",
       "1926-10 -0.0306 -0.0331  0.0106 -0.0476  0.0947 -0.0468  0.0012 -0.0057   \n",
       "1926-11  0.0635  0.0729  0.0455  0.0166 -0.0580 -0.0054  0.0187  0.0542   \n",
       "\n",
       "          Chems   Txtls  ...   Telcm   Servs   BusEq   Paper   Trans   Whlsl  \\\n",
       "1926-07  0.0814  0.0039  ...  0.0083  0.0922  0.0206  0.0770  0.0191 -0.2379   \n",
       "1926-08  0.0550  0.0797  ...  0.0217  0.0202  0.0439 -0.0238  0.0485  0.0539   \n",
       "1926-09  0.0533  0.0230  ...  0.0241  0.0225  0.0019 -0.0554  0.0007 -0.0787   \n",
       "1926-10 -0.0476  0.0100  ... -0.0011 -0.0200 -0.0109 -0.0508 -0.0261 -0.1538   \n",
       "1926-11  0.0520  0.0310  ...  0.0163  0.0377  0.0364  0.0384  0.0161  0.0467   \n",
       "\n",
       "          Rtail   Meals     Fin   Other  \n",
       "1926-07  0.0007  0.0187 -0.0002  0.0520  \n",
       "1926-08 -0.0075 -0.0013  0.0447  0.0676  \n",
       "1926-09  0.0025 -0.0056 -0.0161 -0.0386  \n",
       "1926-10 -0.0220 -0.0411 -0.0551 -0.0849  \n",
       "1926-11  0.0652  0.0433  0.0234  0.0400  \n",
       "\n",
       "[5 rows x 30 columns]"
      ]
     },
     "execution_count": 9,
     "metadata": {},
     "output_type": "execute_result"
    }
   ],
   "source": [
    "ret = pd.read_csv(\"data4_industry_30_vw_monthly.csv\", header = 0, index_col = 0, na_values =-99.99)/100\n",
    "ret.index = pd.to_datetime(ret.index,format =\"%Y%m\").to_period(\"M\")\n",
    "ret.columns = ret.columns.str.strip()\n",
    "ret.head()"
   ]
  },
  {
   "cell_type": "code",
   "execution_count": 17,
   "id": "d8f368c7-f04f-4a3e-b1f2-bf93eaae3eaf",
   "metadata": {},
   "outputs": [],
   "source": [
    "n_years = ret[\"1992\":].shape[0]/12\n",
    "eret = ((1 + ret[\"1992\":]).prod())**(1/n_years)-1\n",
    "cov = ret[\"1992\":].cov()*12"
   ]
  },
  {
   "cell_type": "code",
   "execution_count": 19,
   "id": "460589ac-ceaa-43ab-a2a1-de275badcdf4",
   "metadata": {},
   "outputs": [
    {
     "data": {
      "text/html": [
       "<div>\n",
       "<style scoped>\n",
       "    .dataframe tbody tr th:only-of-type {\n",
       "        vertical-align: middle;\n",
       "    }\n",
       "\n",
       "    .dataframe tbody tr th {\n",
       "        vertical-align: top;\n",
       "    }\n",
       "\n",
       "    .dataframe thead th {\n",
       "        text-align: right;\n",
       "    }\n",
       "</style>\n",
       "<table border=\"1\" class=\"dataframe\">\n",
       "  <thead>\n",
       "    <tr style=\"text-align: right;\">\n",
       "      <th></th>\n",
       "      <th>Games</th>\n",
       "      <th>Beer</th>\n",
       "    </tr>\n",
       "  </thead>\n",
       "  <tbody>\n",
       "    <tr>\n",
       "      <th>Games</th>\n",
       "      <td>0.056781</td>\n",
       "      <td>0.012797</td>\n",
       "    </tr>\n",
       "    <tr>\n",
       "      <th>Beer</th>\n",
       "      <td>0.012797</td>\n",
       "      <td>0.025237</td>\n",
       "    </tr>\n",
       "  </tbody>\n",
       "</table>\n",
       "</div>"
      ],
      "text/plain": [
       "          Games      Beer\n",
       "Games  0.056781  0.012797\n",
       "Beer   0.012797  0.025237"
      ]
     },
     "execution_count": 19,
     "metadata": {},
     "output_type": "execute_result"
    }
   ],
   "source": [
    "l = [\"Games\", \"Beer\"]\n",
    "eret[l]\n",
    "cov.loc[l,l]"
   ]
  },
  {
   "cell_type": "code",
   "execution_count": 21,
   "id": "6d061d74-0eee-40ad-ae84-22dac98d9e67",
   "metadata": {},
   "outputs": [],
   "source": [
    "def portfolio_ret(weights,returns):\n",
    "    return weights.T@returns"
   ]
  },
  {
   "cell_type": "code",
   "execution_count": 63,
   "id": "3ca28617-c293-4bd3-a168-4493c9ea4ddc",
   "metadata": {},
   "outputs": [],
   "source": [
    "def portfolio_vol(weights,covmat):\n",
    "    return(weights.T@covmat@weights)**0.5"
   ]
  },
  {
   "cell_type": "code",
   "execution_count": 77,
   "id": "766b80f7-d884-4dbf-ae54-cc90f7b45adf",
   "metadata": {},
   "outputs": [
    {
     "data": {
      "text/plain": [
       "<Axes: xlabel='volatility'>"
      ]
     },
     "execution_count": 77,
     "metadata": {},
     "output_type": "execute_result"
    },
    {
     "data": {
      "image/png": "[encoded data removed]",
      "text/plain": [
       "<Figure size 600x300 with 1 Axes>"
      ]
     },
     "metadata": {},
     "output_type": "display_data"
    }
   ],
   "source": [
    "n_points=11\n",
    "weights =[np.array([w,1-w]) for w in np.linspace(0,1,n_points)]\n",
    "ereturns = [portfolio_ret(w, eret[l])for w in weights]\n",
    "vols=[portfolio_vol(w,cov.loc[l,l]) for w in weights]\n",
    "ef2 = pd.DataFrame({\"Return\":ereturns,\"volatility\":vols})\n",
    "ef2.plot.line(x=\"volatility\",y=\"Return\",figsize =(6,3),style =\",-\")\n",
    "\n",
    "\n",
    "\n",
    "#pd.describe"
   ]
  },
  {
   "cell_type": "markdown",
   "id": "02a8a7e1-efa0-4146-9723-45988bcddb1b",
   "metadata": {},
   "source": [
    "## MULTI  - ASSET EFFICIENT FRONTIER"
   ]
  },
  {
   "cell_type": "code",
   "execution_count": 80,
   "id": "a10cef11-f4cf-4dd2-8a79-bb78d951758b",
   "metadata": {},
   "outputs": [],
   "source": [
    "from scipy.optimize import minimize \n"
   ]
  },
  {
   "cell_type": "code",
   "execution_count": 106,
   "id": "85f7688a-620c-4a4d-850e-d566f282d701",
   "metadata": {},
   "outputs": [],
   "source": [
    "def minimize_vol(target_return, ereturns, covmat):\n",
    "    n = ereturns.shape[0]\n",
    "    init_values = np.repeat(1/n, n)\n",
    "    bounds = [(0, 1) for _ in range(n)]  # Corrected line\n",
    "    # Constraints:\n",
    "    weights_sum_to_1 = {'type': 'eq',\n",
    "                         'fun': lambda weights: np.sum(weights) - 1}\n",
    "\n",
    "    return_is_target = return_is_target = {'type': 'eq', 'fun': lambda weights: portfolio_ret(weights, ereturns) - target_return}\n",
    "    results = minimize(portfolio_vol,\n",
    "                       init_values,\n",
    "                       args = (covmat,),\n",
    "                       method ='SLSQP',\n",
    "                       bounds = bounds,\n",
    "                       constraints = (weights_sum_to_1, return_is_target),\n",
    "                       options ={'disp':False })\n",
    "    weights = results.x\n",
    "    return weights\n",
    "       \n",
    "                       \n",
    "    \n",
    "    \n",
    "    "
   ]
  },
  {
   "cell_type": "code",
   "execution_count": 108,
   "id": "9369d6ac-d544-48df-bddf-f2be4bfcd15f",
   "metadata": {},
   "outputs": [
    {
     "data": {
      "text/plain": [
       "array([0.37177817, 0.62822183])"
      ]
     },
     "execution_count": 108,
     "metadata": {},
     "output_type": "execute_result"
    }
   ],
   "source": [
    "w11 = minimize_vol(0.11,eret[l],cov.loc[l,l])\n",
    "\n",
    "w11"
   ]
  },
  {
   "cell_type": "code",
   "execution_count": 110,
   "id": "23309dfe-50d1-4af6-a412-7a5bca46ff53",
   "metadata": {},
   "outputs": [
    {
     "data": {
      "text/plain": [
       "0.11000000004810469"
      ]
     },
     "execution_count": 110,
     "metadata": {},
     "output_type": "execute_result"
    }
   ],
   "source": [
    "portfolio_ret(w11,eret[l])"
   ]
  },
  {
   "cell_type": "code",
   "execution_count": 112,
   "id": "ffc384f3-55ae-478d-ba12-c61fa6898263",
   "metadata": {},
   "outputs": [
    {
     "data": {
      "text/plain": [
       "0.15422631467144549"
      ]
     },
     "execution_count": 112,
     "metadata": {},
     "output_type": "execute_result"
    }
   ],
   "source": [
    "portfolio_vol(w11,cov.loc[l,l])"
   ]
  },
  {
   "cell_type": "code",
   "execution_count": 122,
   "id": "b0842363-dcd2-460e-9dd1-47284348510e",
   "metadata": {},
   "outputs": [],
   "source": [
    "#def optimal_weights(n_points,eretruns,covmat):\n",
    "    #target_returns = np.linspace(ereturns.min(),ereturns.max(),n_points)\n",
    "    #opt_weights=[minimize_vol(tr,ereturns,covmat)for tr in target_returns]\n",
    "    #return opt_weights\n",
    "\n",
    "\n",
    "def optimal_weights(n_points, ereturns, covmat):\n",
    "    target_returns = np.linspace(min(ereturns), max(ereturns), n_points)  # Corrected line\n",
    "    opt_weights = [minimize_vol(tr, ereturns, covmat) for tr in target_returns]\n",
    "    return opt_weights"
   ]
  },
  {
   "cell_type": "code",
   "execution_count": 130,
   "id": "ea556c50-4fd0-4ca9-8493-d2255b13ddea",
   "metadata": {},
   "outputs": [
    {
     "data": {
      "text/plain": [
       "<Axes: xlabel='Vol'>"
      ]
     },
     "execution_count": 130,
     "metadata": {},
     "output_type": "execute_result"
    },
    {
     "data": {
      "image/png": "[encoded data removed]",
      "text/plain": [
       "<Figure size 640x480 with 1 Axes>"
      ]
     },
     "metadata": {},
     "output_type": "display_data"
    }
   ],
   "source": [
    "l= [\"Food\", \"Fin\", \"Hlth\", \"Autos\"]\n",
    "efweights = optimal_weights(50,eret[l],cov.loc[l,l])\n",
    "pret = [portfolio_ret(w,eret[l])for w in efweights]\n",
    "pvol = [portfolio_vol(w,cov.loc[l,l]) for w in efweights]\n",
    "\n",
    "#ef = pd.DataFrame({\"Return\": pret, \"Vol\": pvol})\n",
    "#ef.plot.line(x=\"vol\",y=\"Return\" , style =\",-\")\n",
    "\n",
    "ef = pd.DataFrame({\"Return\": pret, \"Vol\": pvol})\n",
    "ef.plot.line(x=\"Vol\", y=\"Return\", style='-')  # Corrected line"
   ]
  },
  {
   "cell_type": "code",
   "execution_count": null,
   "id": "d1844cf1-583f-4ebe-9512-781f31426380",
   "metadata": {},
   "outputs": [],
   "source": []
  }
 ],
 "metadata": {
  "kernelspec": {
   "display_name": "Python [conda env:base] *",
   "language": "python",
   "name": "conda-base-py"
  },
  "language_info": {
   "codemirror_mode": {
    "name": "ipython",
    "version": 3
   },
   "file_extension": ".py",
   "mimetype": "text/x-python",
   "name": "python",
   "nbconvert_exporter": "python",
   "pygments_lexer": "ipython3",
   "version": "3.12.4"
  }
 },
 "nbformat": 4,
 "nbformat_minor": 5
}
