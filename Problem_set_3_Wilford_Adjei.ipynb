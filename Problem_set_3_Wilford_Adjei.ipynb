{
  "nbformat": 4,
  "nbformat_minor": 0,
  "metadata": {
    "colab": {
      "provenance": []
    },
    "kernelspec": {
      "name": "python3",
      "display_name": "Python 3"
    },
    "language_info": {
      "name": "python"
    }
  },
  "cells": [
    {
      "cell_type": "code",
      "execution_count": 1,
      "metadata": {
        "colab": {
          "base_uri": "https://localhost:8080/"
        },
        "collapsed": true,
        "id": "f5VUIVTB3-Jv",
        "outputId": "21ff9c6b-7b4f-409c-a7ae-961b82f61b98"
      },
      "outputs": [
        {
          "output_type": "stream",
          "name": "stdout",
          "text": [
            "Requirement already satisfied: yfinance in /usr/local/lib/python3.10/dist-packages (0.2.43)\n",
            "Requirement already satisfied: pandas>=1.3.0 in /usr/local/lib/python3.10/dist-packages (from yfinance) (2.1.4)\n",
            "Requirement already satisfied: numpy>=1.16.5 in /usr/local/lib/python3.10/dist-packages (from yfinance) (1.26.4)\n",
            "Requirement already satisfied: requests>=2.31 in /usr/local/lib/python3.10/dist-packages (from yfinance) (2.32.3)\n",
            "Requirement already satisfied: multitasking>=0.0.7 in /usr/local/lib/python3.10/dist-packages (from yfinance) (0.0.11)\n",
            "Requirement already satisfied: lxml>=4.9.1 in /usr/local/lib/python3.10/dist-packages (from yfinance) (4.9.4)\n",
            "Requirement already satisfied: platformdirs>=2.0.0 in /usr/local/lib/python3.10/dist-packages (from yfinance) (4.3.6)\n",
            "Requirement already satisfied: pytz>=2022.5 in /usr/local/lib/python3.10/dist-packages (from yfinance) (2024.2)\n",
            "Requirement already satisfied: frozendict>=2.3.4 in /usr/local/lib/python3.10/dist-packages (from yfinance) (2.4.4)\n",
            "Requirement already satisfied: peewee>=3.16.2 in /usr/local/lib/python3.10/dist-packages (from yfinance) (3.17.6)\n",
            "Requirement already satisfied: beautifulsoup4>=4.11.1 in /usr/local/lib/python3.10/dist-packages (from yfinance) (4.12.3)\n",
            "Requirement already satisfied: html5lib>=1.1 in /usr/local/lib/python3.10/dist-packages (from yfinance) (1.1)\n",
            "Requirement already satisfied: soupsieve>1.2 in /usr/local/lib/python3.10/dist-packages (from beautifulsoup4>=4.11.1->yfinance) (2.6)\n",
            "Requirement already satisfied: six>=1.9 in /usr/local/lib/python3.10/dist-packages (from html5lib>=1.1->yfinance) (1.16.0)\n",
            "Requirement already satisfied: webencodings in /usr/local/lib/python3.10/dist-packages (from html5lib>=1.1->yfinance) (0.5.1)\n",
            "Requirement already satisfied: python-dateutil>=2.8.2 in /usr/local/lib/python3.10/dist-packages (from pandas>=1.3.0->yfinance) (2.8.2)\n",
            "Requirement already satisfied: tzdata>=2022.1 in /usr/local/lib/python3.10/dist-packages (from pandas>=1.3.0->yfinance) (2024.1)\n",
            "Requirement already satisfied: charset-normalizer<4,>=2 in /usr/local/lib/python3.10/dist-packages (from requests>=2.31->yfinance) (3.3.2)\n",
            "Requirement already satisfied: idna<4,>=2.5 in /usr/local/lib/python3.10/dist-packages (from requests>=2.31->yfinance) (3.10)\n",
            "Requirement already satisfied: urllib3<3,>=1.21.1 in /usr/local/lib/python3.10/dist-packages (from requests>=2.31->yfinance) (2.2.3)\n",
            "Requirement already satisfied: certifi>=2017.4.17 in /usr/local/lib/python3.10/dist-packages (from requests>=2.31->yfinance) (2024.8.30)\n"
          ]
        },
        {
          "output_type": "stream",
          "name": "stderr",
          "text": [
            "\r[*********************100%***********************]  1 of 1 completed\n"
          ]
        }
      ],
      "source": [
        "!pip install yfinance\n",
        "\n",
        "import yfinance as yf\n",
        "import pandas as pd\n",
        "\n",
        "costco_data = yf.download('COST', start='2017-01-01', end='2022-01-01')"
      ]
    },
    {
      "cell_type": "code",
      "source": [
        "costco_data['Monthly Return'] = costco_data['Close'].pct_change()\n",
        "mean_return = costco_data['Monthly Return'].mean() * 100\n",
        "std_return = costco_data['Monthly Return'].std() * 100\n",
        "\n",
        "print(f'Mean monthly return: {mean_return:.2f}%')\n",
        "print(f'Standard deviation of monthly returns: {std_return:.2f}%')"
      ],
      "metadata": {
        "colab": {
          "base_uri": "https://localhost:8080/"
        },
        "id": "ekKTrm-G4PUe",
        "outputId": "976d0d6d-389f-468f-969d-c0be12484b1d"
      },
      "execution_count": 2,
      "outputs": [
        {
          "output_type": "stream",
          "name": "stdout",
          "text": [
            "Mean monthly return: 0.11%\n",
            "Standard deviation of monthly returns: 1.36%\n"
          ]
        }
      ]
    },
    {
      "source": [
        "from scipy.stats import norm\n",
        "import numpy as np # import numpy with alias np\n",
        "\n",
        "n = len(costco_data['Monthly Return'])\n",
        "z_score = norm.ppf(0.975)  # Z-score for 95% confidence\n",
        "ci_95 = (mean_return - z_score * std_return / np.sqrt(n),\n",
        "         mean_return + z_score * std_return / np.sqrt(n))\n",
        "\n",
        "print(f'95% Confidence Interval: ({ci_95[0]:.2f}%, {ci_95[1]:.2f}%)')"
      ],
      "cell_type": "code",
      "metadata": {
        "colab": {
          "base_uri": "https://localhost:8080/"
        },
        "id": "Q_JBkaUe4vck",
        "outputId": "93837f50-2b4c-4996-df53-89dd599decc3"
      },
      "execution_count": 6,
      "outputs": [
        {
          "output_type": "stream",
          "name": "stdout",
          "text": [
            "95% Confidence Interval: (0.03%, 0.19%)\n"
          ]
        }
      ]
    },
    {
      "cell_type": "markdown",
      "source": [
        "We  constructed a 95% confidence interval using the formula: CI = mean ± (Z \\* std / sqrt(n)), where Z is the Z-score corresponding to the desired confidence level (1.96 for 95% confidence)Since the confidence interval does not contain 1%, we reject the null hypothesis that the average monthly return is 1%."
      ],
      "metadata": {
        "id": "pAJySGzL9cSg"
      }
    },
    {
      "cell_type": "code",
      "source": [
        "z_score = norm.ppf(0.995)  # Z-score for 99% confidence\n",
        "ci_99 = (mean_return - z_score * std_return / np.sqrt(n),\n",
        "         mean_return + z_score * std_return / np.sqrt(n))\n",
        "\n",
        "print(f'99% Confidence Interval: ({ci_99[0]:.2f}%, {ci_99[1]:.2f}%)')"
      ],
      "metadata": {
        "colab": {
          "base_uri": "https://localhost:8080/"
        },
        "id": "eVkWW5HQ40PN",
        "outputId": "8217f0c7-bb82-4afa-fe03-3a08f9b2bcea"
      },
      "execution_count": 7,
      "outputs": [
        {
          "output_type": "stream",
          "name": "stdout",
          "text": [
            "99% Confidence Interval: (0.01%, 0.21%)\n"
          ]
        }
      ]
    },
    {
      "cell_type": "markdown",
      "source": [
        "The 99% confidence interval suggests that we are 99% confident that the true average monthly return of Costco's stock lies within the interval (ci_99[0]:.2f}%, {ci_99[1]:.2f}%). Since this interval does not contain 1%, we have strong evidence to reject the null hypothesis that the average monthly return is 1%. This implies that the true average monthly return is likely to be different from 1%"
      ],
      "metadata": {
        "id": "f4qj5Z2w9JUV"
      }
    },
    {
      "cell_type": "code",
      "source": [
        "t_stat = (mean_return - 1) / (std_return / np.sqrt(n))\n",
        "print(f't-statistic: {t_stat:.2f}')"
      ],
      "metadata": {
        "colab": {
          "base_uri": "https://localhost:8080/"
        },
        "id": "wNDnB2Lx42Uo",
        "outputId": "be5c480d-c824-44a3-e42d-393e9f5006cc"
      },
      "execution_count": 8,
      "outputs": [
        {
          "output_type": "stream",
          "name": "stdout",
          "text": [
            "t-statistic: -23.19\n"
          ]
        }
      ]
    },
    {
      "cell_type": "markdown",
      "source": [
        "The t-statistic measures the number of standard errors away from the null hypothesis value. The t-statistic indicates that the observed average monthly return is statistically significantly different from 1%, meaning that the true average monthly return is likely to be different from 1%."
      ],
      "metadata": {
        "id": "dRHJNRjQ-m_E"
      }
    },
    {
      "cell_type": "markdown",
      "source": [
        "If we increase the sample period to 20 years, the standard deviation of returns may decrease, making the confidence interval narrower and increasing the power of the test. This may lead to a different conclusion."
      ],
      "metadata": {
        "id": "-QUShwGJ5-cM"
      }
    },
    {
      "cell_type": "code",
      "source": [
        "costco_data_20y = yf.download('COST', start='2002-01-01', end='2022-01-01')\n",
        "costco_data_20y['Monthly Return'] = costco_data_20y['Close'].pct_change()\n",
        "mean_return_20y = costco_data_20y['Monthly Return'].mean() * 100\n",
        "std_return_20y = costco_data_20y['Monthly Return'].std() * 100\n",
        "\n",
        "print(f'Mean monthly return (20y): {mean_return_20y:.2f}%')\n",
        "print(f'Standard deviation of monthly returns (20y): {std_return_20y:.2f}%')"
      ],
      "metadata": {
        "colab": {
          "base_uri": "https://localhost:8080/"
        },
        "id": "mdTR2hJW6CXU",
        "outputId": "be61f09d-64b3-45cc-ee2a-66da70061823"
      },
      "execution_count": 9,
      "outputs": [
        {
          "output_type": "stream",
          "name": "stderr",
          "text": [
            "\r[*********************100%***********************]  1 of 1 completed"
          ]
        },
        {
          "output_type": "stream",
          "name": "stdout",
          "text": [
            "Mean monthly return (20y): 0.06%\n",
            "Standard deviation of monthly returns (20y): 1.50%\n"
          ]
        },
        {
          "output_type": "stream",
          "name": "stderr",
          "text": [
            "\n"
          ]
        }
      ]
    },
    {
      "cell_type": "code",
      "source": [
        "n_20y = len(costco_data_20y['Monthly Return'])\n",
        "z_score = norm.ppf(0.975)  # Z-score for 95% confidence\n",
        "ci_95_20y = (mean_return_20y - z_score * std_return_20y / np.sqrt(n_20y),\n",
        "             mean_return_20y + z_score * std_return_20y / np.sqrt(n_20y))\n",
        "\n",
        "print(f'95% Confidence Interval (20y): ({ci_95_20y[0]:.2f}%, {ci_95_20y[1]:.2f}%)')\n",
        "\n",
        "z_score = norm.ppf(0.995)  # Z-score for 99% confidence\n",
        "ci_99_20y = (mean_return_20y - z_score * std_return_20y / np.sqrt(n_20y),\n",
        "             mean_return_20y + z_score * std_return_20y / np.sqrt(n_20y))\n",
        "\n",
        "print(f'99% Confidence Interval (20y): ({ci_99_20y[0]:.2f}%, {ci_99_20y[1]:.2f}%)')"
      ],
      "metadata": {
        "colab": {
          "base_uri": "https://localhost:8080/"
        },
        "id": "hwmKXCV36KD7",
        "outputId": "46131e14-a306-4d66-b839-b29356e272d3"
      },
      "execution_count": 10,
      "outputs": [
        {
          "output_type": "stream",
          "name": "stdout",
          "text": [
            "95% Confidence Interval (20y): (0.02%, 0.10%)\n",
            "99% Confidence Interval (20y): (0.01%, 0.12%)\n"
          ]
        }
      ]
    }
  ]
}