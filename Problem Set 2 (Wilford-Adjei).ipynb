{
  "nbformat": 4,
  "nbformat_minor": 0,
  "metadata": {
    "colab": {
      "provenance": []
    },
    "kernelspec": {
      "name": "python3",
      "display_name": "Python 3"
    },
    "language_info": {
      "name": "python"
    }
  },
  "cells": [
    {
      "cell_type": "code",
      "execution_count": 1,
      "metadata": {
        "id": "KOTJxitfAZA1"
      },
      "outputs": [],
      "source": [
        "import yfinance as yf\n",
        "import pandas as pd\n",
        "import matplotlib.pyplot as plt"
      ]
    },
    {
      "cell_type": "code",
      "source": [
        "# Download daily stock prices for American Express (AXP) and S&P 500 index (ˆGSPC) for the last 5 years\n",
        "axp_data = yf.download('AXP', start='2017-01-01', end='2022-01-01')\n",
        "gspc_data = yf.download('^GSPC', start='2017-01-01', end='2022-01-01')\n",
        "print(axp_data.head)\n",
        "print(gspc_data.head)"
      ],
      "metadata": {
        "colab": {
          "base_uri": "https://localhost:8080/"
        },
        "id": "Kx72KMEoAf3W",
        "outputId": "38b70556-e7b6-4b9f-d681-635432c57636"
      },
      "execution_count": 3,
      "outputs": [
        {
          "output_type": "stream",
          "name": "stderr",
          "text": [
            "[*********************100%***********************]  1 of 1 completed\n",
            "[*********************100%***********************]  1 of 1 completed"
          ]
        },
        {
          "output_type": "stream",
          "name": "stdout",
          "text": [
            "<bound method NDFrame.head of                   Open        High         Low       Close   Adj Close  \\\n",
            "Date                                                                     \n",
            "2017-01-03   74.889999   75.750000   74.739998   75.349998   67.424644   \n",
            "2017-01-04   75.260002   76.550003   75.059998   76.260002   68.529968   \n",
            "2017-01-05   76.000000   76.180000   74.820000   75.320000   67.685242   \n",
            "2017-01-06   75.400002   75.919998   75.059998   75.470001   67.820038   \n",
            "2017-01-09   76.139999   76.500000   75.529999   75.860001   68.170502   \n",
            "...                ...         ...         ...         ...         ...   \n",
            "2021-12-27  165.000000  165.000000  162.529999  164.389999  158.440689   \n",
            "2021-12-28  163.600006  166.130005  163.600006  164.410004  158.459961   \n",
            "2021-12-29  164.619995  164.929993  163.259995  163.830002  157.900955   \n",
            "2021-12-30  164.619995  165.800003  164.000000  164.160004  158.218994   \n",
            "2021-12-31  164.100006  165.169998  163.250000  163.600006  157.679291   \n",
            "\n",
            "             Volume  \n",
            "Date                 \n",
            "2017-01-03  5853900  \n",
            "2017-01-04  4635800  \n",
            "2017-01-05  3383000  \n",
            "2017-01-06  3089600  \n",
            "2017-01-09  4818700  \n",
            "...             ...  \n",
            "2021-12-27  1687300  \n",
            "2021-12-28  2035300  \n",
            "2021-12-29  2082200  \n",
            "2021-12-30  1632900  \n",
            "2021-12-31  1743600  \n",
            "\n",
            "[1259 rows x 6 columns]>\n",
            "<bound method NDFrame.head of                    Open         High          Low        Close    Adj Close  \\\n",
            "Date                                                                          \n",
            "2017-01-03  2251.570068  2263.879883  2245.129883  2257.830078  2257.830078   \n",
            "2017-01-04  2261.600098  2272.820068  2261.600098  2270.750000  2270.750000   \n",
            "2017-01-05  2268.179932  2271.500000  2260.449951  2269.000000  2269.000000   \n",
            "2017-01-06  2271.139893  2282.100098  2264.060059  2276.979980  2276.979980   \n",
            "2017-01-09  2273.590088  2275.489990  2268.899902  2268.899902  2268.899902   \n",
            "...                 ...          ...          ...          ...          ...   \n",
            "2021-12-27  4733.990234  4791.490234  4733.990234  4791.189941  4791.189941   \n",
            "2021-12-28  4795.490234  4807.020020  4780.040039  4786.350098  4786.350098   \n",
            "2021-12-29  4788.640137  4804.060059  4778.080078  4793.060059  4793.060059   \n",
            "2021-12-30  4794.229980  4808.930176  4775.330078  4778.729980  4778.729980   \n",
            "2021-12-31  4775.209961  4786.830078  4765.750000  4766.180176  4766.180176   \n",
            "\n",
            "                Volume  \n",
            "Date                    \n",
            "2017-01-03  3773010000  \n",
            "2017-01-04  3768890000  \n",
            "2017-01-05  3785080000  \n",
            "2017-01-06  3342080000  \n",
            "2017-01-09  3219730000  \n",
            "...                ...  \n",
            "2021-12-27  2770290000  \n",
            "2021-12-28  2707920000  \n",
            "2021-12-29  2963310000  \n",
            "2021-12-30  3124950000  \n",
            "2021-12-31  2677820000  \n",
            "\n",
            "[1259 rows x 6 columns]>\n"
          ]
        },
        {
          "output_type": "stream",
          "name": "stderr",
          "text": [
            "\n"
          ]
        }
      ]
    },
    {
      "cell_type": "code",
      "source": [
        "# Calculate daily returns\n",
        "axp_returns = axp_data['Close'].pct_change()\n",
        "gspc_returns = gspc_data['Close'].pct_change()\n",
        "print(axp_returns.head)\n",
        "print(gspc_returns.head)"
      ],
      "metadata": {
        "colab": {
          "base_uri": "https://localhost:8080/"
        },
        "id": "RzOej4ybBJpv",
        "outputId": "1342f790-11da-4311-a41a-15a512fb7578"
      },
      "execution_count": 5,
      "outputs": [
        {
          "output_type": "stream",
          "name": "stdout",
          "text": [
            "<bound method NDFrame.head of Date\n",
            "2017-01-03         NaN\n",
            "2017-01-04    0.012077\n",
            "2017-01-05   -0.012326\n",
            "2017-01-06    0.001992\n",
            "2017-01-09    0.005168\n",
            "                ...   \n",
            "2021-12-27    0.001218\n",
            "2021-12-28    0.000122\n",
            "2021-12-29   -0.003528\n",
            "2021-12-30    0.002014\n",
            "2021-12-31   -0.003411\n",
            "Name: Close, Length: 1259, dtype: float64>\n",
            "<bound method NDFrame.head of Date\n",
            "2017-01-03         NaN\n",
            "2017-01-04    0.005722\n",
            "2017-01-05   -0.000771\n",
            "2017-01-06    0.003517\n",
            "2017-01-09   -0.003549\n",
            "                ...   \n",
            "2021-12-27    0.013839\n",
            "2021-12-28   -0.001010\n",
            "2021-12-29    0.001402\n",
            "2021-12-30   -0.002990\n",
            "2021-12-31   -0.002626\n",
            "Name: Close, Length: 1259, dtype: float64>\n"
          ]
        }
      ]
    },
    {
      "cell_type": "code",
      "source": [
        "# Plot histogram of returns for both\n",
        "plt.figure(figsize=(10, 5))\n",
        "plt.subplot(1, 2, 1)\n",
        "plt.hist(axp_returns, bins=50)\n",
        "plt.title('American Express Returns')\n",
        "plt.xlabel('Return')\n",
        "plt.ylabel('Frequency')\n"
      ],
      "metadata": {
        "colab": {
          "base_uri": "https://localhost:8080/",
          "height": 504
        },
        "id": "Ve7kKgeXBeeT",
        "outputId": "ff5509ea-041b-4003-a4ce-28e1baecdd02"
      },
      "execution_count": 6,
      "outputs": [
        {
          "output_type": "execute_result",
          "data": {
            "text/plain": [
              "Text(0, 0.5, 'Frequency')"
            ]
          },
          "metadata": {},
          "execution_count": 6
        },
        {
          "output_type": "display_data",
          "data": {
            "text/plain": [
              "<Figure size 1000x500 with 1 Axes>"
            ],
            "image/png": "[encoded data removed]"
          },
          "metadata": {}
        }
      ]
    },
    {
      "cell_type": "code",
      "source": [
        "plt.subplot(1, 2, 2)\n",
        "plt.hist(gspc_returns, bins=50)\n",
        "plt.title('S&P 500 Returns')\n",
        "plt.xlabel('Return')\n",
        "plt.ylabel('Frequency')\n",
        "plt.tight_layout()\n",
        "plt.show()"
      ],
      "metadata": {
        "colab": {
          "base_uri": "https://localhost:8080/",
          "height": 487
        },
        "id": "m2WIsFVLBkgm",
        "outputId": "712e2254-173c-445d-924a-089d54cb2158"
      },
      "execution_count": 7,
      "outputs": [
        {
          "output_type": "display_data",
          "data": {
            "text/plain": [
              "<Figure size 640x480 with 1 Axes>"
            ],
            "image/png": "[encoded data removed]"
          },
          "metadata": {}
        }
      ]
    },
    {
      "cell_type": "code",
      "source": [
        "# Calculate % of times that the return of American Express was negative (< 0) conditional on the returns of the S&P 500 being positive\n",
        "cond_returns = axp_returns[gspc_returns > 0]\n",
        "neg_returns_pct = (cond_returns < 0).mean() * 100\n",
        "print(f'Percentage of times American Express return was negative when S&P 500 return was positive: {neg_returns_pct:.2f}%')"
      ],
      "metadata": {
        "colab": {
          "base_uri": "https://localhost:8080/"
        },
        "id": "h4Gd664HBtM7",
        "outputId": "21e3e06d-3a90-4a08-b34b-a4c9f94d7fad"
      },
      "execution_count": 8,
      "outputs": [
        {
          "output_type": "stream",
          "name": "stdout",
          "text": [
            "Percentage of times American Express return was negative when S&P 500 return was positive: 27.11%\n"
          ]
        }
      ]
    }
  ]
}