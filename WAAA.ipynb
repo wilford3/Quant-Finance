{
 "cells": [
  {
   "cell_type": "code",
   "execution_count": null,
   "id": "e91f3516-78b0-4d1e-9709-b03bab92f643",
   "metadata": {},
   "outputs": [],
   "source": []
  },
  {
   "cell_type": "code",
   "execution_count": 116,
   "id": "307297a0-41da-4f67-9c98-078a76207e6a",
   "metadata": {},
   "outputs": [],
   "source": [
    "import numpy as np \n",
    "import pandas as pd \n",
    "import matplotlib.pyplot as plt \n",
    "\n",
    "import statsmodels.graphics.tsaplots as sgt #for ACF and PACF plots \n",
    "import statsmodels.tsa.stattools as sts #for Augmented Dicky-Fuller test of stationarity \n",
    "from scipy.stats.distributions import chi2 \n",
    "from sklearn.metrics import mean_absolute_percentage_error, mean_squared_error\n",
    "from pmdarima import auto_arima\n",
    "from statsmodels.tsa.arima.model import ARIMA"
   ]
  },
  {
   "cell_type": "code",
   "execution_count": 118,
   "id": "3c53dfc7-1cc6-4fa9-8d0b-c6e7319f6bbf",
   "metadata": {},
   "outputs": [
    {
     "data": {
      "text/html": [
       "<div>\n",
       "<style scoped>\n",
       "    .dataframe tbody tr th:only-of-type {\n",
       "        vertical-align: middle;\n",
       "    }\n",
       "\n",
       "    .dataframe tbody tr th {\n",
       "        vertical-align: top;\n",
       "    }\n",
       "\n",
       "    .dataframe thead th {\n",
       "        text-align: right;\n",
       "    }\n",
       "</style>\n",
       "<table border=\"1\" class=\"dataframe\">\n",
       "  <thead>\n",
       "    <tr style=\"text-align: right;\">\n",
       "      <th></th>\n",
       "      <th>sales</th>\n",
       "    </tr>\n",
       "    <tr>\n",
       "      <th>observation_date</th>\n",
       "      <th></th>\n",
       "    </tr>\n",
       "  </thead>\n",
       "  <tbody>\n",
       "    <tr>\n",
       "      <th>2000-01-01</th>\n",
       "      <td>7484</td>\n",
       "    </tr>\n",
       "    <tr>\n",
       "      <th>2000-02-01</th>\n",
       "      <td>7548</td>\n",
       "    </tr>\n",
       "    <tr>\n",
       "      <th>2000-03-01</th>\n",
       "      <td>7599</td>\n",
       "    </tr>\n",
       "  </tbody>\n",
       "</table>\n",
       "</div>"
      ],
      "text/plain": [
       "                  sales\n",
       "observation_date       \n",
       "2000-01-01         7484\n",
       "2000-02-01         7548\n",
       "2000-03-01         7599"
      ]
     },
     "execution_count": 118,
     "metadata": {},
     "output_type": "execute_result"
    }
   ],
   "source": [
    "data =pd.read_csv(\"RSFHFS.csv\", header=0, index_col=0, na_values=\".\")\n",
    "data.index=pd.to_datetime(data.index)\n",
    "data=data.ffill()\n",
    "data=data['2000':'2019']\n",
    "data.columns=['sales']\n",
    "data.head(3)"
   ]
  },
  {
   "cell_type": "markdown",
   "id": "62f02101-9df3-4bd4-b99d-bf225328a7a6",
   "metadata": {},
   "source": [
    "# Plotting the time series"
   ]
  },
  {
   "cell_type": "code",
   "execution_count": 121,
   "id": "0f72b310-d5b3-4700-ba81-d7eb6a72dee3",
   "metadata": {},
   "outputs": [
    {
     "data": {
      "text/html": [
       "<div>\n",
       "<style scoped>\n",
       "    .dataframe tbody tr th:only-of-type {\n",
       "        vertical-align: middle;\n",
       "    }\n",
       "\n",
       "    .dataframe tbody tr th {\n",
       "        vertical-align: top;\n",
       "    }\n",
       "\n",
       "    .dataframe thead th {\n",
       "        text-align: right;\n",
       "    }\n",
       "</style>\n",
       "<table border=\"1\" class=\"dataframe\">\n",
       "  <thead>\n",
       "    <tr style=\"text-align: right;\">\n",
       "      <th></th>\n",
       "      <th>sales</th>\n",
       "      <th>ret</th>\n",
       "      <th>sqret</th>\n",
       "    </tr>\n",
       "    <tr>\n",
       "      <th>observation_date</th>\n",
       "      <th></th>\n",
       "      <th></th>\n",
       "      <th></th>\n",
       "    </tr>\n",
       "  </thead>\n",
       "  <tbody>\n",
       "    <tr>\n",
       "      <th>2000-01-01</th>\n",
       "      <td>7484</td>\n",
       "      <td>NaN</td>\n",
       "      <td>NaN</td>\n",
       "    </tr>\n",
       "    <tr>\n",
       "      <th>2000-02-01</th>\n",
       "      <td>7548</td>\n",
       "      <td>0.855158</td>\n",
       "      <td>0.731295</td>\n",
       "    </tr>\n",
       "    <tr>\n",
       "      <th>2000-03-01</th>\n",
       "      <td>7599</td>\n",
       "      <td>0.675676</td>\n",
       "      <td>0.456538</td>\n",
       "    </tr>\n",
       "  </tbody>\n",
       "</table>\n",
       "</div>"
      ],
      "text/plain": [
       "                  sales       ret     sqret\n",
       "observation_date                           \n",
       "2000-01-01         7484       NaN       NaN\n",
       "2000-02-01         7548  0.855158  0.731295\n",
       "2000-03-01         7599  0.675676  0.456538"
      ]
     },
     "execution_count": 121,
     "metadata": {},
     "output_type": "execute_result"
    }
   ],
   "source": [
    "data['ret']=data.sales.pct_change()*100\n",
    "data['sqret']=data.ret.mul(data.ret)\n",
    "data['ret'].dropna(inplace=True) \n",
    "data.head(3)"
   ]
  },
  {
   "cell_type": "code",
   "execution_count": 123,
   "id": "03e9a04e-39fb-458f-b0b3-5a9384c933da",
   "metadata": {},
   "outputs": [
    {
     "data": {
      "text/plain": [
       "Text(0.5, 1.0, 'Sales Returns ')"
      ]
     },
     "execution_count": 123,
     "metadata": {},
     "output_type": "execute_result"
    },
    {
     "data": {
      "image/png": "[encoded data removed]",
      "text/plain": [
       "<Figure size 800x300 with 1 Axes>"
      ]
     },
     "metadata": {},
     "output_type": "display_data"
    }
   ],
   "source": [
    "data.ret.plot(figsize=(8,3))\n",
    "plt.title(\"Sales Returns \")"
   ]
  },
  {
   "cell_type": "code",
   "execution_count": 125,
   "id": "61a0cf2a-5ad2-445b-b58e-8536ca391732",
   "metadata": {},
   "outputs": [
    {
     "data": {
      "text/plain": [
       "Text(0.5, 1.0, 'PACF for Sales Returns')"
      ]
     },
     "execution_count": 125,
     "metadata": {},
     "output_type": "execute_result"
    },
    {
     "data": {
      "image/png": "[encoded data removed]",
      "text/plain": [
       "<Figure size 640x480 with 1 Axes>"
      ]
     },
     "metadata": {},
     "output_type": "display_data"
    }
   ],
   "source": [
    "sgt.plot_pacf(data.ret[1:], lags=40, zero=False, method='ols')\n",
    "plt.title(\"PACF for Sales Returns\", size=14)"
   ]
  },
  {
   "cell_type": "markdown",
   "id": "6db9919a-5d83-4507-9160-8fbd644c42e7",
   "metadata": {},
   "source": [
    "# ARMA vs ARIMA"
   ]
  },
  {
   "cell_type": "markdown",
   "id": "0512ce4e-7b64-4e88-a44e-b21b2e91af81",
   "metadata": {},
   "source": [
    "## ARIMA (1,1,1) For Sales"
   ]
  },
  {
   "cell_type": "code",
   "execution_count": 128,
   "id": "2010622c-3e6f-4fa9-9964-41377b9e2073",
   "metadata": {},
   "outputs": [
    {
     "name": "stderr",
     "output_type": "stream",
     "text": [
      "C:\\Users\\tapiw\\anaconda3\\Lib\\site-packages\\statsmodels\\tsa\\base\\tsa_model.py:473: ValueWarning: No frequency information was provided, so inferred frequency MS will be used.\n",
      "  self._init_dates(dates, freq)\n",
      "C:\\Users\\tapiw\\anaconda3\\Lib\\site-packages\\statsmodels\\tsa\\base\\tsa_model.py:473: ValueWarning: No frequency information was provided, so inferred frequency MS will be used.\n",
      "  self._init_dates(dates, freq)\n",
      "C:\\Users\\tapiw\\anaconda3\\Lib\\site-packages\\statsmodels\\tsa\\base\\tsa_model.py:473: ValueWarning: No frequency information was provided, so inferred frequency MS will be used.\n",
      "  self._init_dates(dates, freq)\n"
     ]
    },
    {
     "data": {
      "text/html": [
       "<table class=\"simpletable\">\n",
       "<caption>SARIMAX Results</caption>\n",
       "<tr>\n",
       "  <th>Dep. Variable:</th>         <td>sales</td>      <th>  No. Observations:  </th>    <td>240</td>   \n",
       "</tr>\n",
       "<tr>\n",
       "  <th>Model:</th>            <td>ARIMA(1, 1, 1)</td>  <th>  Log Likelihood     </th> <td>-1501.462</td>\n",
       "</tr>\n",
       "<tr>\n",
       "  <th>Date:</th>            <td>Sun, 09 Mar 2025</td> <th>  AIC                </th> <td>3008.925</td> \n",
       "</tr>\n",
       "<tr>\n",
       "  <th>Time:</th>                <td>21:06:55</td>     <th>  BIC                </th> <td>3019.354</td> \n",
       "</tr>\n",
       "<tr>\n",
       "  <th>Sample:</th>             <td>01-01-2000</td>    <th>  HQIC               </th> <td>3013.127</td> \n",
       "</tr>\n",
       "<tr>\n",
       "  <th></th>                   <td>- 12-01-2019</td>   <th>                     </th>     <td> </td>    \n",
       "</tr>\n",
       "<tr>\n",
       "  <th>Covariance Type:</th>        <td>opg</td>       <th>                     </th>     <td> </td>    \n",
       "</tr>\n",
       "</table>\n",
       "<table class=\"simpletable\">\n",
       "<tr>\n",
       "     <td></td>       <th>coef</th>     <th>std err</th>      <th>z</th>      <th>P>|z|</th>  <th>[0.025</th>    <th>0.975]</th>  \n",
       "</tr>\n",
       "<tr>\n",
       "  <th>ar.L1</th>  <td>    0.0920</td> <td>    0.504</td> <td>    0.183</td> <td> 0.855</td> <td>   -0.895</td> <td>    1.079</td>\n",
       "</tr>\n",
       "<tr>\n",
       "  <th>ma.L1</th>  <td>   -0.2344</td> <td>    0.487</td> <td>   -0.481</td> <td> 0.631</td> <td>   -1.190</td> <td>    0.721</td>\n",
       "</tr>\n",
       "<tr>\n",
       "  <th>sigma2</th> <td> 1.689e+04</td> <td> 1148.747</td> <td>   14.701</td> <td> 0.000</td> <td> 1.46e+04</td> <td> 1.91e+04</td>\n",
       "</tr>\n",
       "</table>\n",
       "<table class=\"simpletable\">\n",
       "<tr>\n",
       "  <th>Ljung-Box (L1) (Q):</th>     <td>0.03</td> <th>  Jarque-Bera (JB):  </th> <td>34.70</td>\n",
       "</tr>\n",
       "<tr>\n",
       "  <th>Prob(Q):</th>                <td>0.86</td> <th>  Prob(JB):          </th> <td>0.00</td> \n",
       "</tr>\n",
       "<tr>\n",
       "  <th>Heteroskedasticity (H):</th> <td>0.74</td> <th>  Skew:              </th> <td>-0.04</td>\n",
       "</tr>\n",
       "<tr>\n",
       "  <th>Prob(H) (two-sided):</th>    <td>0.18</td> <th>  Kurtosis:          </th> <td>4.87</td> \n",
       "</tr>\n",
       "</table><br/><br/>Warnings:<br/>[1] Covariance matrix calculated using the outer product of gradients (complex-step)."
      ],
      "text/latex": [
       "\\begin{center}\n",
       "\\begin{tabular}{lclc}\n",
       "\\toprule\n",
       "\\textbf{Dep. Variable:}          &      sales       & \\textbf{  No. Observations:  } &    240      \\\\\n",
       "\\textbf{Model:}                  &  ARIMA(1, 1, 1)  & \\textbf{  Log Likelihood     } & -1501.462   \\\\\n",
       "\\textbf{Date:}                   & Sun, 09 Mar 2025 & \\textbf{  AIC                } &  3008.925   \\\\\n",
       "\\textbf{Time:}                   &     21:06:55     & \\textbf{  BIC                } &  3019.354   \\\\\n",
       "\\textbf{Sample:}                 &    01-01-2000    & \\textbf{  HQIC               } &  3013.127   \\\\\n",
       "\\textbf{}                        &   - 12-01-2019   & \\textbf{                     } &             \\\\\n",
       "\\textbf{Covariance Type:}        &       opg        & \\textbf{                     } &             \\\\\n",
       "\\bottomrule\n",
       "\\end{tabular}\n",
       "\\begin{tabular}{lcccccc}\n",
       "                & \\textbf{coef} & \\textbf{std err} & \\textbf{z} & \\textbf{P$> |$z$|$} & \\textbf{[0.025} & \\textbf{0.975]}  \\\\\n",
       "\\midrule\n",
       "\\textbf{ar.L1}  &       0.0920  &        0.504     &     0.183  &         0.855        &       -0.895    &        1.079     \\\\\n",
       "\\textbf{ma.L1}  &      -0.2344  &        0.487     &    -0.481  &         0.631        &       -1.190    &        0.721     \\\\\n",
       "\\textbf{sigma2} &    1.689e+04  &     1148.747     &    14.701  &         0.000        &     1.46e+04    &     1.91e+04     \\\\\n",
       "\\bottomrule\n",
       "\\end{tabular}\n",
       "\\begin{tabular}{lclc}\n",
       "\\textbf{Ljung-Box (L1) (Q):}     & 0.03 & \\textbf{  Jarque-Bera (JB):  } & 34.70  \\\\\n",
       "\\textbf{Prob(Q):}                & 0.86 & \\textbf{  Prob(JB):          } &  0.00  \\\\\n",
       "\\textbf{Heteroskedasticity (H):} & 0.74 & \\textbf{  Skew:              } & -0.04  \\\\\n",
       "\\textbf{Prob(H) (two-sided):}    & 0.18 & \\textbf{  Kurtosis:          } &  4.87  \\\\\n",
       "\\bottomrule\n",
       "\\end{tabular}\n",
       "%\\caption{SARIMAX Results}\n",
       "\\end{center}\n",
       "\n",
       "Warnings: \\newline\n",
       " [1] Covariance matrix calculated using the outer product of gradients (complex-step)."
      ],
      "text/plain": [
       "<class 'statsmodels.iolib.summary.Summary'>\n",
       "\"\"\"\n",
       "                               SARIMAX Results                                \n",
       "==============================================================================\n",
       "Dep. Variable:                  sales   No. Observations:                  240\n",
       "Model:                 ARIMA(1, 1, 1)   Log Likelihood               -1501.462\n",
       "Date:                Sun, 09 Mar 2025   AIC                           3008.925\n",
       "Time:                        21:06:55   BIC                           3019.354\n",
       "Sample:                    01-01-2000   HQIC                          3013.127\n",
       "                         - 12-01-2019                                         \n",
       "Covariance Type:                  opg                                         \n",
       "==============================================================================\n",
       "                 coef    std err          z      P>|z|      [0.025      0.975]\n",
       "------------------------------------------------------------------------------\n",
       "ar.L1          0.0920      0.504      0.183      0.855      -0.895       1.079\n",
       "ma.L1         -0.2344      0.487     -0.481      0.631      -1.190       0.721\n",
       "sigma2      1.689e+04   1148.747     14.701      0.000    1.46e+04    1.91e+04\n",
       "===================================================================================\n",
       "Ljung-Box (L1) (Q):                   0.03   Jarque-Bera (JB):                34.70\n",
       "Prob(Q):                              0.86   Prob(JB):                         0.00\n",
       "Heteroskedasticity (H):               0.74   Skew:                            -0.04\n",
       "Prob(H) (two-sided):                  0.18   Kurtosis:                         4.87\n",
       "===================================================================================\n",
       "\n",
       "Warnings:\n",
       "[1] Covariance matrix calculated using the outer product of gradients (complex-step).\n",
       "\"\"\""
      ]
     },
     "execution_count": 128,
     "metadata": {},
     "output_type": "execute_result"
    }
   ],
   "source": [
    "model_sales = ARIMA(data['sales'], order=(1, 1, 1))  \n",
    "results_sales = model_sales.fit()\n",
    "results_sales.summary()"
   ]
  },
  {
   "cell_type": "markdown",
   "id": "78d06039-c117-4d40-a742-109d50567501",
   "metadata": {},
   "source": [
    "## ARMA (1,1) on sales returns"
   ]
  },
  {
   "cell_type": "code",
   "execution_count": 130,
   "id": "a4cbd05d-f4d5-45fe-8d53-c163c3015311",
   "metadata": {},
   "outputs": [
    {
     "name": "stderr",
     "output_type": "stream",
     "text": [
      "C:\\Users\\tapiw\\anaconda3\\Lib\\site-packages\\statsmodels\\tsa\\base\\tsa_model.py:473: ValueWarning: No frequency information was provided, so inferred frequency MS will be used.\n",
      "  self._init_dates(dates, freq)\n",
      "C:\\Users\\tapiw\\anaconda3\\Lib\\site-packages\\statsmodels\\tsa\\base\\tsa_model.py:473: ValueWarning: No frequency information was provided, so inferred frequency MS will be used.\n",
      "  self._init_dates(dates, freq)\n",
      "C:\\Users\\tapiw\\anaconda3\\Lib\\site-packages\\statsmodels\\tsa\\base\\tsa_model.py:473: ValueWarning: No frequency information was provided, so inferred frequency MS will be used.\n",
      "  self._init_dates(dates, freq)\n"
     ]
    },
    {
     "data": {
      "text/html": [
       "<table class=\"simpletable\">\n",
       "<caption>SARIMAX Results</caption>\n",
       "<tr>\n",
       "  <th>Dep. Variable:</th>         <td>sales</td>      <th>  No. Observations:  </th>    <td>240</td>   \n",
       "</tr>\n",
       "<tr>\n",
       "  <th>Model:</th>            <td>ARIMA(1, 1, 1)</td>  <th>  Log Likelihood     </th> <td>-1501.462</td>\n",
       "</tr>\n",
       "<tr>\n",
       "  <th>Date:</th>            <td>Sun, 09 Mar 2025</td> <th>  AIC                </th> <td>3008.925</td> \n",
       "</tr>\n",
       "<tr>\n",
       "  <th>Time:</th>                <td>21:06:56</td>     <th>  BIC                </th> <td>3019.354</td> \n",
       "</tr>\n",
       "<tr>\n",
       "  <th>Sample:</th>             <td>01-01-2000</td>    <th>  HQIC               </th> <td>3013.127</td> \n",
       "</tr>\n",
       "<tr>\n",
       "  <th></th>                   <td>- 12-01-2019</td>   <th>                     </th>     <td> </td>    \n",
       "</tr>\n",
       "<tr>\n",
       "  <th>Covariance Type:</th>        <td>opg</td>       <th>                     </th>     <td> </td>    \n",
       "</tr>\n",
       "</table>\n",
       "<table class=\"simpletable\">\n",
       "<tr>\n",
       "     <td></td>       <th>coef</th>     <th>std err</th>      <th>z</th>      <th>P>|z|</th>  <th>[0.025</th>    <th>0.975]</th>  \n",
       "</tr>\n",
       "<tr>\n",
       "  <th>ar.L1</th>  <td>    0.0920</td> <td>    0.504</td> <td>    0.183</td> <td> 0.855</td> <td>   -0.895</td> <td>    1.079</td>\n",
       "</tr>\n",
       "<tr>\n",
       "  <th>ma.L1</th>  <td>   -0.2344</td> <td>    0.487</td> <td>   -0.481</td> <td> 0.631</td> <td>   -1.190</td> <td>    0.721</td>\n",
       "</tr>\n",
       "<tr>\n",
       "  <th>sigma2</th> <td> 1.689e+04</td> <td> 1148.747</td> <td>   14.701</td> <td> 0.000</td> <td> 1.46e+04</td> <td> 1.91e+04</td>\n",
       "</tr>\n",
       "</table>\n",
       "<table class=\"simpletable\">\n",
       "<tr>\n",
       "  <th>Ljung-Box (L1) (Q):</th>     <td>0.03</td> <th>  Jarque-Bera (JB):  </th> <td>34.70</td>\n",
       "</tr>\n",
       "<tr>\n",
       "  <th>Prob(Q):</th>                <td>0.86</td> <th>  Prob(JB):          </th> <td>0.00</td> \n",
       "</tr>\n",
       "<tr>\n",
       "  <th>Heteroskedasticity (H):</th> <td>0.74</td> <th>  Skew:              </th> <td>-0.04</td>\n",
       "</tr>\n",
       "<tr>\n",
       "  <th>Prob(H) (two-sided):</th>    <td>0.18</td> <th>  Kurtosis:          </th> <td>4.87</td> \n",
       "</tr>\n",
       "</table><br/><br/>Warnings:<br/>[1] Covariance matrix calculated using the outer product of gradients (complex-step)."
      ],
      "text/latex": [
       "\\begin{center}\n",
       "\\begin{tabular}{lclc}\n",
       "\\toprule\n",
       "\\textbf{Dep. Variable:}          &      sales       & \\textbf{  No. Observations:  } &    240      \\\\\n",
       "\\textbf{Model:}                  &  ARIMA(1, 1, 1)  & \\textbf{  Log Likelihood     } & -1501.462   \\\\\n",
       "\\textbf{Date:}                   & Sun, 09 Mar 2025 & \\textbf{  AIC                } &  3008.925   \\\\\n",
       "\\textbf{Time:}                   &     21:06:56     & \\textbf{  BIC                } &  3019.354   \\\\\n",
       "\\textbf{Sample:}                 &    01-01-2000    & \\textbf{  HQIC               } &  3013.127   \\\\\n",
       "\\textbf{}                        &   - 12-01-2019   & \\textbf{                     } &             \\\\\n",
       "\\textbf{Covariance Type:}        &       opg        & \\textbf{                     } &             \\\\\n",
       "\\bottomrule\n",
       "\\end{tabular}\n",
       "\\begin{tabular}{lcccccc}\n",
       "                & \\textbf{coef} & \\textbf{std err} & \\textbf{z} & \\textbf{P$> |$z$|$} & \\textbf{[0.025} & \\textbf{0.975]}  \\\\\n",
       "\\midrule\n",
       "\\textbf{ar.L1}  &       0.0920  &        0.504     &     0.183  &         0.855        &       -0.895    &        1.079     \\\\\n",
       "\\textbf{ma.L1}  &      -0.2344  &        0.487     &    -0.481  &         0.631        &       -1.190    &        0.721     \\\\\n",
       "\\textbf{sigma2} &    1.689e+04  &     1148.747     &    14.701  &         0.000        &     1.46e+04    &     1.91e+04     \\\\\n",
       "\\bottomrule\n",
       "\\end{tabular}\n",
       "\\begin{tabular}{lclc}\n",
       "\\textbf{Ljung-Box (L1) (Q):}     & 0.03 & \\textbf{  Jarque-Bera (JB):  } & 34.70  \\\\\n",
       "\\textbf{Prob(Q):}                & 0.86 & \\textbf{  Prob(JB):          } &  0.00  \\\\\n",
       "\\textbf{Heteroskedasticity (H):} & 0.74 & \\textbf{  Skew:              } & -0.04  \\\\\n",
       "\\textbf{Prob(H) (two-sided):}    & 0.18 & \\textbf{  Kurtosis:          } &  4.87  \\\\\n",
       "\\bottomrule\n",
       "\\end{tabular}\n",
       "%\\caption{SARIMAX Results}\n",
       "\\end{center}\n",
       "\n",
       "Warnings: \\newline\n",
       " [1] Covariance matrix calculated using the outer product of gradients (complex-step)."
      ],
      "text/plain": [
       "<class 'statsmodels.iolib.summary.Summary'>\n",
       "\"\"\"\n",
       "                               SARIMAX Results                                \n",
       "==============================================================================\n",
       "Dep. Variable:                  sales   No. Observations:                  240\n",
       "Model:                 ARIMA(1, 1, 1)   Log Likelihood               -1501.462\n",
       "Date:                Sun, 09 Mar 2025   AIC                           3008.925\n",
       "Time:                        21:06:56   BIC                           3019.354\n",
       "Sample:                    01-01-2000   HQIC                          3013.127\n",
       "                         - 12-01-2019                                         \n",
       "Covariance Type:                  opg                                         \n",
       "==============================================================================\n",
       "                 coef    std err          z      P>|z|      [0.025      0.975]\n",
       "------------------------------------------------------------------------------\n",
       "ar.L1          0.0920      0.504      0.183      0.855      -0.895       1.079\n",
       "ma.L1         -0.2344      0.487     -0.481      0.631      -1.190       0.721\n",
       "sigma2      1.689e+04   1148.747     14.701      0.000    1.46e+04    1.91e+04\n",
       "===================================================================================\n",
       "Ljung-Box (L1) (Q):                   0.03   Jarque-Bera (JB):                34.70\n",
       "Prob(Q):                              0.86   Prob(JB):                         0.00\n",
       "Heteroskedasticity (H):               0.74   Skew:                            -0.04\n",
       "Prob(H) (two-sided):                  0.18   Kurtosis:                         4.87\n",
       "===================================================================================\n",
       "\n",
       "Warnings:\n",
       "[1] Covariance matrix calculated using the outer product of gradients (complex-step).\n",
       "\"\"\""
      ]
     },
     "execution_count": 130,
     "metadata": {},
     "output_type": "execute_result"
    }
   ],
   "source": [
    "model_sales_returns = ARIMA(data['ret'], order=(1, 0, 1))  \n",
    "results_sales_returns = model_sales.fit()\n",
    "results_sales_returns.summary()"
   ]
  },
  {
   "cell_type": "code",
   "execution_count": 131,
   "id": "955022da-d6b8-4083-97fe-1af8b83383c9",
   "metadata": {},
   "outputs": [
    {
     "name": "stdout",
     "output_type": "stream",
     "text": [
      "ADF Statistic: -1.4240930629844362\n",
      "p-value: 0.5706726630057004\n"
     ]
    }
   ],
   "source": [
    "from statsmodels.tsa.stattools import adfuller\n",
    "\n",
    "result = adfuller(data['sales'])\n",
    "print(\"ADF Statistic:\", result[0])\n",
    "print(\"p-value:\", result[1])\n"
   ]
  },
  {
   "cell_type": "markdown",
   "id": "5ca27968-d529-4c56-bf8f-88290be02fc5",
   "metadata": {},
   "source": [
    "### The ADF test returned a p-value of 0.57, which is greater than 0.05. Therefore, we fail to reject the null hypothesis of non-stationarity, indicating that our time series is indeed non-stationary. Because ARMA models assume stationarity, an ARIMA model (which includes a differencing term) is more appropriate for this data. Hence, ARIMA(1,1,1) is the better choice"
   ]
  },
  {
   "cell_type": "markdown",
   "id": "e14604d1-f7db-48ae-ba58-c9ce234795d5",
   "metadata": {},
   "source": [
    "### Finding the best ARIMA model"
   ]
  },
  {
   "cell_type": "code",
   "execution_count": 140,
   "id": "8b033286-c2d0-4bc7-9bf6-4e49bf806505",
   "metadata": {},
   "outputs": [
    {
     "name": "stdout",
     "output_type": "stream",
     "text": [
      "Performing stepwise search to minimize aic\n",
      " ARIMA(2,1,2)(0,0,0)[0] intercept   : AIC=2988.993, Time=1.21 sec\n",
      " ARIMA(0,1,0)(0,0,0)[0] intercept   : AIC=3009.911, Time=0.16 sec\n",
      " ARIMA(1,1,0)(0,0,0)[0] intercept   : AIC=3007.165, Time=0.58 sec\n",
      " ARIMA(0,1,1)(0,0,0)[0] intercept   : AIC=3006.393, Time=0.88 sec\n",
      " ARIMA(0,1,0)(0,0,0)[0]             : AIC=3009.776, Time=0.03 sec\n",
      " ARIMA(1,1,2)(0,0,0)[0] intercept   : AIC=3009.850, Time=1.93 sec\n",
      " ARIMA(2,1,1)(0,0,0)[0] intercept   : AIC=3009.370, Time=1.05 sec\n",
      " ARIMA(3,1,2)(0,0,0)[0] intercept   : AIC=2990.661, Time=1.13 sec\n",
      " ARIMA(2,1,3)(0,0,0)[0] intercept   : AIC=2990.033, Time=0.64 sec\n",
      " ARIMA(1,1,1)(0,0,0)[0] intercept   : AIC=3008.191, Time=0.42 sec\n",
      " ARIMA(1,1,3)(0,0,0)[0] intercept   : AIC=2989.640, Time=0.92 sec\n",
      " ARIMA(3,1,1)(0,0,0)[0] intercept   : AIC=2997.887, Time=0.77 sec\n",
      " ARIMA(3,1,3)(0,0,0)[0] intercept   : AIC=inf, Time=0.86 sec\n",
      " ARIMA(2,1,2)(0,0,0)[0]             : AIC=2988.042, Time=0.87 sec\n",
      " ARIMA(1,1,2)(0,0,0)[0]             : AIC=3010.647, Time=1.03 sec\n",
      " ARIMA(2,1,1)(0,0,0)[0]             : AIC=3010.228, Time=0.49 sec\n",
      " ARIMA(3,1,2)(0,0,0)[0]             : AIC=2988.789, Time=2.50 sec\n",
      " ARIMA(2,1,3)(0,0,0)[0]             : AIC=2989.033, Time=1.68 sec\n",
      " ARIMA(1,1,1)(0,0,0)[0]             : AIC=3008.925, Time=0.53 sec\n",
      " ARIMA(1,1,3)(0,0,0)[0]             : AIC=2988.381, Time=1.63 sec\n",
      " ARIMA(3,1,1)(0,0,0)[0]             : AIC=2996.454, Time=2.40 sec\n",
      " ARIMA(3,1,3)(0,0,0)[0]             : AIC=2991.678, Time=1.65 sec\n",
      "\n",
      "Best model:  ARIMA(2,1,2)(0,0,0)[0]          \n",
      "Total fit time: 23.386 seconds\n"
     ]
    },
    {
     "data": {
      "text/html": [
       "<table class=\"simpletable\">\n",
       "<caption>SARIMAX Results</caption>\n",
       "<tr>\n",
       "  <th>Dep. Variable:</th>           <td>y</td>        <th>  No. Observations:  </th>    <td>240</td>   \n",
       "</tr>\n",
       "<tr>\n",
       "  <th>Model:</th>           <td>SARIMAX(2, 1, 2)</td> <th>  Log Likelihood     </th> <td>-1489.021</td>\n",
       "</tr>\n",
       "<tr>\n",
       "  <th>Date:</th>            <td>Sun, 09 Mar 2025</td> <th>  AIC                </th> <td>2988.042</td> \n",
       "</tr>\n",
       "<tr>\n",
       "  <th>Time:</th>                <td>21:10:01</td>     <th>  BIC                </th> <td>3005.424</td> \n",
       "</tr>\n",
       "<tr>\n",
       "  <th>Sample:</th>             <td>01-01-2000</td>    <th>  HQIC               </th> <td>2995.047</td> \n",
       "</tr>\n",
       "<tr>\n",
       "  <th></th>                   <td>- 12-01-2019</td>   <th>                     </th>     <td> </td>    \n",
       "</tr>\n",
       "<tr>\n",
       "  <th>Covariance Type:</th>        <td>opg</td>       <th>                     </th>     <td> </td>    \n",
       "</tr>\n",
       "</table>\n",
       "<table class=\"simpletable\">\n",
       "<tr>\n",
       "     <td></td>       <th>coef</th>     <th>std err</th>      <th>z</th>      <th>P>|z|</th>  <th>[0.025</th>    <th>0.975]</th>  \n",
       "</tr>\n",
       "<tr>\n",
       "  <th>ar.L1</th>  <td>    1.3873</td> <td>    0.099</td> <td>   14.052</td> <td> 0.000</td> <td>    1.194</td> <td>    1.581</td>\n",
       "</tr>\n",
       "<tr>\n",
       "  <th>ar.L2</th>  <td>   -0.4755</td> <td>    0.102</td> <td>   -4.665</td> <td> 0.000</td> <td>   -0.675</td> <td>   -0.276</td>\n",
       "</tr>\n",
       "<tr>\n",
       "  <th>ma.L1</th>  <td>   -1.6519</td> <td>    0.085</td> <td>  -19.353</td> <td> 0.000</td> <td>   -1.819</td> <td>   -1.485</td>\n",
       "</tr>\n",
       "<tr>\n",
       "  <th>ma.L2</th>  <td>    0.7878</td> <td>    0.084</td> <td>    9.360</td> <td> 0.000</td> <td>    0.623</td> <td>    0.953</td>\n",
       "</tr>\n",
       "<tr>\n",
       "  <th>sigma2</th> <td> 1.501e+04</td> <td> 1048.007</td> <td>   14.327</td> <td> 0.000</td> <td>  1.3e+04</td> <td> 1.71e+04</td>\n",
       "</tr>\n",
       "</table>\n",
       "<table class=\"simpletable\">\n",
       "<tr>\n",
       "  <th>Ljung-Box (L1) (Q):</th>     <td>0.10</td> <th>  Jarque-Bera (JB):  </th> <td>29.37</td>\n",
       "</tr>\n",
       "<tr>\n",
       "  <th>Prob(Q):</th>                <td>0.75</td> <th>  Prob(JB):          </th> <td>0.00</td> \n",
       "</tr>\n",
       "<tr>\n",
       "  <th>Heteroskedasticity (H):</th> <td>0.73</td> <th>  Skew:              </th> <td>-0.05</td>\n",
       "</tr>\n",
       "<tr>\n",
       "  <th>Prob(H) (two-sided):</th>    <td>0.16</td> <th>  Kurtosis:          </th> <td>4.71</td> \n",
       "</tr>\n",
       "</table><br/><br/>Warnings:<br/>[1] Covariance matrix calculated using the outer product of gradients (complex-step)."
      ],
      "text/latex": [
       "\\begin{center}\n",
       "\\begin{tabular}{lclc}\n",
       "\\toprule\n",
       "\\textbf{Dep. Variable:}          &        y         & \\textbf{  No. Observations:  } &    240      \\\\\n",
       "\\textbf{Model:}                  & SARIMAX(2, 1, 2) & \\textbf{  Log Likelihood     } & -1489.021   \\\\\n",
       "\\textbf{Date:}                   & Sun, 09 Mar 2025 & \\textbf{  AIC                } &  2988.042   \\\\\n",
       "\\textbf{Time:}                   &     21:10:01     & \\textbf{  BIC                } &  3005.424   \\\\\n",
       "\\textbf{Sample:}                 &    01-01-2000    & \\textbf{  HQIC               } &  2995.047   \\\\\n",
       "\\textbf{}                        &   - 12-01-2019   & \\textbf{                     } &             \\\\\n",
       "\\textbf{Covariance Type:}        &       opg        & \\textbf{                     } &             \\\\\n",
       "\\bottomrule\n",
       "\\end{tabular}\n",
       "\\begin{tabular}{lcccccc}\n",
       "                & \\textbf{coef} & \\textbf{std err} & \\textbf{z} & \\textbf{P$> |$z$|$} & \\textbf{[0.025} & \\textbf{0.975]}  \\\\\n",
       "\\midrule\n",
       "\\textbf{ar.L1}  &       1.3873  &        0.099     &    14.052  &         0.000        &        1.194    &        1.581     \\\\\n",
       "\\textbf{ar.L2}  &      -0.4755  &        0.102     &    -4.665  &         0.000        &       -0.675    &       -0.276     \\\\\n",
       "\\textbf{ma.L1}  &      -1.6519  &        0.085     &   -19.353  &         0.000        &       -1.819    &       -1.485     \\\\\n",
       "\\textbf{ma.L2}  &       0.7878  &        0.084     &     9.360  &         0.000        &        0.623    &        0.953     \\\\\n",
       "\\textbf{sigma2} &    1.501e+04  &     1048.007     &    14.327  &         0.000        &      1.3e+04    &     1.71e+04     \\\\\n",
       "\\bottomrule\n",
       "\\end{tabular}\n",
       "\\begin{tabular}{lclc}\n",
       "\\textbf{Ljung-Box (L1) (Q):}     & 0.10 & \\textbf{  Jarque-Bera (JB):  } & 29.37  \\\\\n",
       "\\textbf{Prob(Q):}                & 0.75 & \\textbf{  Prob(JB):          } &  0.00  \\\\\n",
       "\\textbf{Heteroskedasticity (H):} & 0.73 & \\textbf{  Skew:              } & -0.05  \\\\\n",
       "\\textbf{Prob(H) (two-sided):}    & 0.16 & \\textbf{  Kurtosis:          } &  4.71  \\\\\n",
       "\\bottomrule\n",
       "\\end{tabular}\n",
       "%\\caption{SARIMAX Results}\n",
       "\\end{center}\n",
       "\n",
       "Warnings: \\newline\n",
       " [1] Covariance matrix calculated using the outer product of gradients (complex-step)."
      ],
      "text/plain": [
       "<class 'statsmodels.iolib.summary.Summary'>\n",
       "\"\"\"\n",
       "                               SARIMAX Results                                \n",
       "==============================================================================\n",
       "Dep. Variable:                      y   No. Observations:                  240\n",
       "Model:               SARIMAX(2, 1, 2)   Log Likelihood               -1489.021\n",
       "Date:                Sun, 09 Mar 2025   AIC                           2988.042\n",
       "Time:                        21:10:01   BIC                           3005.424\n",
       "Sample:                    01-01-2000   HQIC                          2995.047\n",
       "                         - 12-01-2019                                         \n",
       "Covariance Type:                  opg                                         \n",
       "==============================================================================\n",
       "                 coef    std err          z      P>|z|      [0.025      0.975]\n",
       "------------------------------------------------------------------------------\n",
       "ar.L1          1.3873      0.099     14.052      0.000       1.194       1.581\n",
       "ar.L2         -0.4755      0.102     -4.665      0.000      -0.675      -0.276\n",
       "ma.L1         -1.6519      0.085    -19.353      0.000      -1.819      -1.485\n",
       "ma.L2          0.7878      0.084      9.360      0.000       0.623       0.953\n",
       "sigma2      1.501e+04   1048.007     14.327      0.000     1.3e+04    1.71e+04\n",
       "===================================================================================\n",
       "Ljung-Box (L1) (Q):                   0.10   Jarque-Bera (JB):                29.37\n",
       "Prob(Q):                              0.75   Prob(JB):                         0.00\n",
       "Heteroskedasticity (H):               0.73   Skew:                            -0.05\n",
       "Prob(H) (two-sided):                  0.16   Kurtosis:                         4.71\n",
       "===================================================================================\n",
       "\n",
       "Warnings:\n",
       "[1] Covariance matrix calculated using the outer product of gradients (complex-step).\n",
       "\"\"\""
      ]
     },
     "execution_count": 140,
     "metadata": {},
     "output_type": "execute_result"
    }
   ],
   "source": [
    "model_sales = auto_arima(data.sales, seasonal=False, stepwise=True, trace=True)\n",
    "model_sales.summary()"
   ]
  },
  {
   "cell_type": "markdown",
   "id": "3e22e213-0f15-4f76-a60d-1e46f4c1dfb5",
   "metadata": {},
   "source": [
    "### Splitting the data into training and test sets"
   ]
  },
  {
   "cell_type": "code",
   "execution_count": 145,
   "id": "d397ce41-4f5d-4d31-ac95-3be5c05a1a0d",
   "metadata": {},
   "outputs": [],
   "source": [
    "train_data = data.sales[:192]  # First 16 years (assuming monthly data)\n",
    "test_data = data.sales[192:]  # Last 4 years"
   ]
  },
  {
   "cell_type": "code",
   "execution_count": 149,
   "id": "921ea568-94b8-4ede-9b95-68d2d5eae65a",
   "metadata": {},
   "outputs": [
    {
     "name": "stderr",
     "output_type": "stream",
     "text": [
      "C:\\Users\\tapiw\\anaconda3\\Lib\\site-packages\\statsmodels\\tsa\\base\\tsa_model.py:473: ValueWarning: No frequency information was provided, so inferred frequency MS will be used.\n",
      "  self._init_dates(dates, freq)\n",
      "C:\\Users\\tapiw\\anaconda3\\Lib\\site-packages\\statsmodels\\tsa\\base\\tsa_model.py:473: ValueWarning: No frequency information was provided, so inferred frequency MS will be used.\n",
      "  self._init_dates(dates, freq)\n",
      "C:\\Users\\tapiw\\anaconda3\\Lib\\site-packages\\statsmodels\\tsa\\base\\tsa_model.py:473: ValueWarning: No frequency information was provided, so inferred frequency MS will be used.\n",
      "  self._init_dates(dates, freq)\n"
     ]
    }
   ],
   "source": [
    "best_order = model_sales.order  # Get the best order from auto_arima\n",
    "arima_model = ARIMA(train_data, order=best_order)\n",
    "results_sales = arima_model.fit()"
   ]
  },
  {
   "cell_type": "code",
   "execution_count": 151,
   "id": "4b079e9c-a79f-4554-8677-68b5aadf4760",
   "metadata": {},
   "outputs": [],
   "source": [
    "# Generating forecasts for the next 48 months\n",
    "fc = results_sales.get_forecast(steps=48).summary_frame()  # 95% conf\n"
   ]
  },
  {
   "cell_type": "code",
   "execution_count": 153,
   "id": "d2e01436-c9d7-4275-94cf-8e1e98068f3e",
   "metadata": {},
   "outputs": [
    {
     "data": {
      "text/html": [
       "<div>\n",
       "<style scoped>\n",
       "    .dataframe tbody tr th:only-of-type {\n",
       "        vertical-align: middle;\n",
       "    }\n",
       "\n",
       "    .dataframe tbody tr th {\n",
       "        vertical-align: top;\n",
       "    }\n",
       "\n",
       "    .dataframe thead th {\n",
       "        text-align: right;\n",
       "    }\n",
       "</style>\n",
       "<table border=\"1\" class=\"dataframe\">\n",
       "  <thead>\n",
       "    <tr style=\"text-align: right;\">\n",
       "      <th>sales</th>\n",
       "      <th>mean</th>\n",
       "      <th>mean_se</th>\n",
       "      <th>mean_ci_lower</th>\n",
       "      <th>mean_ci_upper</th>\n",
       "    </tr>\n",
       "  </thead>\n",
       "  <tbody>\n",
       "    <tr>\n",
       "      <th>2016-01-01</th>\n",
       "      <td>9360.816680</td>\n",
       "      <td>126.138987</td>\n",
       "      <td>9113.588808</td>\n",
       "      <td>9608.044552</td>\n",
       "    </tr>\n",
       "    <tr>\n",
       "      <th>2016-02-01</th>\n",
       "      <td>9380.461746</td>\n",
       "      <td>157.259902</td>\n",
       "      <td>9072.238001</td>\n",
       "      <td>9688.685491</td>\n",
       "    </tr>\n",
       "    <tr>\n",
       "      <th>2016-03-01</th>\n",
       "      <td>9411.830770</td>\n",
       "      <td>179.824379</td>\n",
       "      <td>9059.381463</td>\n",
       "      <td>9764.280077</td>\n",
       "    </tr>\n",
       "    <tr>\n",
       "      <th>2016-04-01</th>\n",
       "      <td>9446.510432</td>\n",
       "      <td>202.766703</td>\n",
       "      <td>9049.094998</td>\n",
       "      <td>9843.925867</td>\n",
       "    </tr>\n",
       "    <tr>\n",
       "      <th>2016-05-01</th>\n",
       "      <td>9480.070592</td>\n",
       "      <td>228.882465</td>\n",
       "      <td>9031.469203</td>\n",
       "      <td>9928.671980</td>\n",
       "    </tr>\n",
       "  </tbody>\n",
       "</table>\n",
       "</div>"
      ],
      "text/plain": [
       "sales              mean     mean_se  mean_ci_lower  mean_ci_upper\n",
       "2016-01-01  9360.816680  126.138987    9113.588808    9608.044552\n",
       "2016-02-01  9380.461746  157.259902    9072.238001    9688.685491\n",
       "2016-03-01  9411.830770  179.824379    9059.381463    9764.280077\n",
       "2016-04-01  9446.510432  202.766703    9049.094998    9843.925867\n",
       "2016-05-01  9480.070592  228.882465    9031.469203    9928.671980"
      ]
     },
     "execution_count": 153,
     "metadata": {},
     "output_type": "execute_result"
    }
   ],
   "source": [
    "fc.head()"
   ]
  },
  {
   "cell_type": "code",
   "execution_count": 155,
   "id": "a9199536-c358-4777-b1cf-56e9bb2b9623",
   "metadata": {},
   "outputs": [
    {
     "data": {
      "text/plain": [
       "<matplotlib.legend.Legend at 0x2827b185dc0>"
      ]
     },
     "execution_count": 155,
     "metadata": {},
     "output_type": "execute_result"
    },
    {
     "data": {
      "image/png": "[encoded data removed]",
      "text/plain": [
       "<Figure size 1000x400 with 1 Axes>"
      ]
     },
     "metadata": {},
     "output_type": "display_data"
    }
   ],
   "source": [
    "# Plot\n",
    "plt.figure(figsize=(10,4))\n",
    "plt.plot(train, label='training')\n",
    "plt.plot(test, label='actual')\n",
    "plt.plot(fc['mean'], label='forecast')\n",
    "plt.fill_between(fc.index, fc.mean_ci_lower, fc.mean_ci_upper, color='k', alpha=.15)\n",
    "plt.title('Forecast vs Actuals')\n",
    "plt.legend(loc='upper left', fontsize=10)"
   ]
  },
  {
   "cell_type": "markdown",
   "id": "9942929a-e80a-4165-ab42-367cb510168c",
   "metadata": {},
   "source": [
    "## Computing MAPE and RMSE"
   ]
  },
  {
   "cell_type": "code",
   "execution_count": 170,
   "id": "4f756f66-6e59-4d22-9ab5-563333681a54",
   "metadata": {},
   "outputs": [],
   "source": [
    "# Accuracy metrics\n",
    "def forecast_accuracy(forecast, actual):\n",
    "    mape = np.mean(np.abs(forecast - actual)/np.abs(actual))  # MAPE\n",
    "    rmse = np.mean((forecast - actual)**2)**.5  # RMSE\n",
    "    return({'mape':mape, 'rmse':rmse})\n"
   ]
  },
  {
   "cell_type": "code",
   "execution_count": 172,
   "id": "4bd6cdc8-ceb7-424a-aef7-4d5df7c00649",
   "metadata": {},
   "outputs": [
    {
     "data": {
      "text/plain": [
       "{'mape': 0.0258664039045898, 'rmse': 290.4719557248122}"
      ]
     },
     "execution_count": 172,
     "metadata": {},
     "output_type": "execute_result"
    }
   ],
   "source": [
    "forecast_accuracy(fc['mean'], test.values)"
   ]
  },
  {
   "cell_type": "markdown",
   "id": "242e7b2b-cae8-436a-a5ab-b31584f07e81",
   "metadata": {},
   "source": [
    "# Download DJIA data from FRED"
   ]
  },
  {
   "cell_type": "code",
   "execution_count": 159,
   "id": "85803235-5362-4d9c-8e0d-3adc665d632e",
   "metadata": {},
   "outputs": [
    {
     "data": {
      "text/html": [
       "<div>\n",
       "<style scoped>\n",
       "    .dataframe tbody tr th:only-of-type {\n",
       "        vertical-align: middle;\n",
       "    }\n",
       "\n",
       "    .dataframe tbody tr th {\n",
       "        vertical-align: top;\n",
       "    }\n",
       "\n",
       "    .dataframe thead th {\n",
       "        text-align: right;\n",
       "    }\n",
       "</style>\n",
       "<table border=\"1\" class=\"dataframe\">\n",
       "  <thead>\n",
       "    <tr style=\"text-align: right;\">\n",
       "      <th></th>\n",
       "      <th>price</th>\n",
       "    </tr>\n",
       "    <tr>\n",
       "      <th>observation_date</th>\n",
       "      <th></th>\n",
       "    </tr>\n",
       "  </thead>\n",
       "  <tbody>\n",
       "    <tr>\n",
       "      <th>2020-03-09</th>\n",
       "      <td>23851.02</td>\n",
       "    </tr>\n",
       "    <tr>\n",
       "      <th>2020-03-10</th>\n",
       "      <td>25018.16</td>\n",
       "    </tr>\n",
       "    <tr>\n",
       "      <th>2020-03-11</th>\n",
       "      <td>23553.22</td>\n",
       "    </tr>\n",
       "    <tr>\n",
       "      <th>2020-03-12</th>\n",
       "      <td>21200.62</td>\n",
       "    </tr>\n",
       "    <tr>\n",
       "      <th>2020-03-13</th>\n",
       "      <td>23185.62</td>\n",
       "    </tr>\n",
       "  </tbody>\n",
       "</table>\n",
       "</div>"
      ],
      "text/plain": [
       "                     price\n",
       "observation_date          \n",
       "2020-03-09        23851.02\n",
       "2020-03-10        25018.16\n",
       "2020-03-11        23553.22\n",
       "2020-03-12        21200.62\n",
       "2020-03-13        23185.62"
      ]
     },
     "execution_count": 159,
     "metadata": {},
     "output_type": "execute_result"
    }
   ],
   "source": [
    "dj=pd.read_csv(\"DJIA.csv\", header=0, index_col=0, na_values=\".\")\n",
    "dj.index=pd.to_datetime(dj.index)\n",
    "dj=dj.ffill()\n",
    "dj.columns=['price']\n",
    "dj.head()"
   ]
  },
  {
   "cell_type": "code",
   "execution_count": 161,
   "id": "5c586b77-9084-471b-a544-e0b4929acd30",
   "metadata": {},
   "outputs": [
    {
     "data": {
      "text/html": [
       "<div>\n",
       "<style scoped>\n",
       "    .dataframe tbody tr th:only-of-type {\n",
       "        vertical-align: middle;\n",
       "    }\n",
       "\n",
       "    .dataframe tbody tr th {\n",
       "        vertical-align: top;\n",
       "    }\n",
       "\n",
       "    .dataframe thead th {\n",
       "        text-align: right;\n",
       "    }\n",
       "</style>\n",
       "<table border=\"1\" class=\"dataframe\">\n",
       "  <thead>\n",
       "    <tr style=\"text-align: right;\">\n",
       "      <th></th>\n",
       "      <th>price</th>\n",
       "      <th>ret</th>\n",
       "      <th>sqret</th>\n",
       "    </tr>\n",
       "    <tr>\n",
       "      <th>observation_date</th>\n",
       "      <th></th>\n",
       "      <th></th>\n",
       "      <th></th>\n",
       "    </tr>\n",
       "  </thead>\n",
       "  <tbody>\n",
       "    <tr>\n",
       "      <th>2020-03-09</th>\n",
       "      <td>23851.02</td>\n",
       "      <td>NaN</td>\n",
       "      <td>NaN</td>\n",
       "    </tr>\n",
       "    <tr>\n",
       "      <th>2020-03-10</th>\n",
       "      <td>25018.16</td>\n",
       "      <td>4.893459</td>\n",
       "      <td>23.945946</td>\n",
       "    </tr>\n",
       "    <tr>\n",
       "      <th>2020-03-11</th>\n",
       "      <td>23553.22</td>\n",
       "      <td>-5.855507</td>\n",
       "      <td>34.286957</td>\n",
       "    </tr>\n",
       "    <tr>\n",
       "      <th>2020-03-12</th>\n",
       "      <td>21200.62</td>\n",
       "      <td>-9.988443</td>\n",
       "      <td>99.768997</td>\n",
       "    </tr>\n",
       "    <tr>\n",
       "      <th>2020-03-13</th>\n",
       "      <td>23185.62</td>\n",
       "      <td>9.362934</td>\n",
       "      <td>87.664528</td>\n",
       "    </tr>\n",
       "  </tbody>\n",
       "</table>\n",
       "</div>"
      ],
      "text/plain": [
       "                     price       ret      sqret\n",
       "observation_date                               \n",
       "2020-03-09        23851.02       NaN        NaN\n",
       "2020-03-10        25018.16  4.893459  23.945946\n",
       "2020-03-11        23553.22 -5.855507  34.286957\n",
       "2020-03-12        21200.62 -9.988443  99.768997\n",
       "2020-03-13        23185.62  9.362934  87.664528"
      ]
     },
     "execution_count": 161,
     "metadata": {},
     "output_type": "execute_result"
    }
   ],
   "source": [
    "dj['ret']=dj.price.pct_change()*100\n",
    "dj['sqret']=dj.ret.mul(dj.ret)\n",
    "dj.head()"
   ]
  },
  {
   "cell_type": "code",
   "execution_count": 163,
   "id": "9274aee2-09e7-4d5a-b3c9-293897cf9d1d",
   "metadata": {},
   "outputs": [
    {
     "data": {
      "text/plain": [
       "Text(0.5, 1.0, 'DJIA Daily Returns')"
      ]
     },
     "execution_count": 163,
     "metadata": {},
     "output_type": "execute_result"
    },
    {
     "data": {
      "image/png": "[encoded data removed]",
      "text/plain": [
       "<Figure size 800x300 with 1 Axes>"
      ]
     },
     "metadata": {},
     "output_type": "display_data"
    }
   ],
   "source": [
    "dj.ret.plot(figsize=(8,3))\n",
    "plt.title(\"DJIA Daily Returns\")"
   ]
  },
  {
   "cell_type": "code",
   "execution_count": 165,
   "id": "ba737f1f-6965-4d66-b457-94dc93e785fc",
   "metadata": {},
   "outputs": [
    {
     "data": {
      "text/plain": [
       "Text(0.5, 1.0, 'Volatility')"
      ]
     },
     "execution_count": 165,
     "metadata": {},
     "output_type": "execute_result"
    },
    {
     "data": {
      "image/png": "[encoded data removed]",
      "text/plain": [
       "<Figure size 800x300 with 1 Axes>"
      ]
     },
     "metadata": {},
     "output_type": "display_data"
    }
   ],
   "source": [
    "dj.sqret.plot(figsize=(8,3))\n",
    "plt.title(\"Volatility\",size=12)"
   ]
  },
  {
   "cell_type": "markdown",
   "id": "fa74a8ef-e5bf-498f-9387-23b67fa1e4a4",
   "metadata": {},
   "source": [
    "### We observe periods of high volatility followed by periods of low volatility, this suggests that the GARCH family of models may be more appropriate for modeling the returns, as GARCH models are designed to capture changing volatility over time"
   ]
  },
  {
   "cell_type": "code",
   "execution_count": 168,
   "id": "5d56359c-2dc8-40f6-aad2-99d7cdf7716c",
   "metadata": {},
   "outputs": [
    {
     "name": "stdout",
     "output_type": "stream",
     "text": [
      "Requirement already satisfied: arch in c:\\users\\tapiw\\anaconda3\\lib\\site-packages (7.2.0)Note: you may need to restart the kernel to use updated packages.\n",
      "\n",
      "Requirement already satisfied: numpy>=1.22.3 in c:\\users\\tapiw\\anaconda3\\lib\\site-packages (from arch) (1.26.4)\n",
      "Requirement already satisfied: scipy>=1.8 in c:\\users\\tapiw\\anaconda3\\lib\\site-packages (from arch) (1.13.1)\n",
      "Requirement already satisfied: pandas>=1.4 in c:\\users\\tapiw\\anaconda3\\lib\\site-packages (from arch) (2.2.2)\n",
      "Requirement already satisfied: statsmodels>=0.12 in c:\\users\\tapiw\\anaconda3\\lib\\site-packages (from arch) (0.14.2)\n",
      "Requirement already satisfied: python-dateutil>=2.8.2 in c:\\users\\tapiw\\anaconda3\\lib\\site-packages (from pandas>=1.4->arch) (2.9.0.post0)\n",
      "Requirement already satisfied: pytz>=2020.1 in c:\\users\\tapiw\\anaconda3\\lib\\site-packages (from pandas>=1.4->arch) (2024.1)\n",
      "Requirement already satisfied: tzdata>=2022.7 in c:\\users\\tapiw\\anaconda3\\lib\\site-packages (from pandas>=1.4->arch) (2023.3)\n",
      "Requirement already satisfied: patsy>=0.5.6 in c:\\users\\tapiw\\anaconda3\\lib\\site-packages (from statsmodels>=0.12->arch) (0.5.6)\n",
      "Requirement already satisfied: packaging>=21.3 in c:\\users\\tapiw\\anaconda3\\lib\\site-packages (from statsmodels>=0.12->arch) (24.1)\n",
      "Requirement already satisfied: six in c:\\users\\tapiw\\anaconda3\\lib\\site-packages (from patsy>=0.5.6->statsmodels>=0.12->arch) (1.16.0)\n"
     ]
    }
   ],
   "source": [
    "pip install arch "
   ]
  },
  {
   "cell_type": "markdown",
   "id": "61de6952-7403-40ab-bd89-f083494edcc0",
   "metadata": {},
   "source": [
    "# Fit the best ARCH model"
   ]
  },
  {
   "cell_type": "code",
   "execution_count": 174,
   "id": "c0826e8f-8590-48a9-a975-4eaba3f56630",
   "metadata": {},
   "outputs": [],
   "source": [
    "from arch import arch_model "
   ]
  },
  {
   "cell_type": "code",
   "execution_count": 175,
   "id": "d4f33b3f-efaa-4b1d-a6b0-12aee1314798",
   "metadata": {},
   "outputs": [
    {
     "name": "stdout",
     "output_type": "stream",
     "text": [
      "Iteration:      2,   Func. Count:     12,   Neg. LLF: 681402810.5505488\n",
      "Iteration:      4,   Func. Count:     23,   Neg. LLF: 1864.516389426384\n",
      "Iteration:      6,   Func. Count:     32,   Neg. LLF: 1859.9800795212598\n",
      "Optimization terminated successfully    (Exit mode 0)\n",
      "            Current function value: 1859.9800795212598\n",
      "            Iterations: 7\n",
      "            Function evaluations: 35\n",
      "            Gradient evaluations: 7\n"
     ]
    },
    {
     "data": {
      "text/html": [
       "<table class=\"simpletable\">\n",
       "<caption>Constant Mean - ARCH Model Results</caption>\n",
       "<tr>\n",
       "  <th>Dep. Variable:</th>         <td>ret</td>        <th>  R-squared:         </th>  <td>   0.000</td> \n",
       "</tr>\n",
       "<tr>\n",
       "  <th>Mean Model:</th>       <td>Constant Mean</td>   <th>  Adj. R-squared:    </th>  <td>   0.000</td> \n",
       "</tr>\n",
       "<tr>\n",
       "  <th>Vol Model:</th>            <td>ARCH</td>        <th>  Log-Likelihood:    </th> <td>  -1859.98</td>\n",
       "</tr>\n",
       "<tr>\n",
       "  <th>Distribution:</th>        <td>Normal</td>       <th>  AIC:               </th> <td>   3725.96</td>\n",
       "</tr>\n",
       "<tr>\n",
       "  <th>Method:</th>        <td>Maximum Likelihood</td> <th>  BIC:               </th> <td>   3741.48</td>\n",
       "</tr>\n",
       "<tr>\n",
       "  <th></th>                        <td></td>          <th>  No. Observations:  </th>    <td>1304</td>   \n",
       "</tr>\n",
       "<tr>\n",
       "  <th>Date:</th>           <td>Sun, Mar 09 2025</td>  <th>  Df Residuals:      </th>    <td>1303</td>   \n",
       "</tr>\n",
       "<tr>\n",
       "  <th>Time:</th>               <td>21:29:59</td>      <th>  Df Model:          </th>      <td>1</td>    \n",
       "</tr>\n",
       "</table>\n",
       "<table class=\"simpletable\">\n",
       "<caption>Mean Model</caption>\n",
       "<tr>\n",
       "   <td></td>     <th>coef</th>     <th>std err</th>      <th>t</th>       <th>P>|t|</th>    <th>95.0% Conf. Int.</th>  \n",
       "</tr>\n",
       "<tr>\n",
       "  <th>mu</th> <td>    0.0810</td> <td>2.837e-02</td> <td>    2.857</td> <td>4.282e-03</td> <td>[2.544e-02,  0.137]</td>\n",
       "</tr>\n",
       "</table>\n",
       "<table class=\"simpletable\">\n",
       "<caption>Volatility Model</caption>\n",
       "<tr>\n",
       "      <td></td>        <th>coef</th>     <th>std err</th>      <th>t</th>       <th>P>|t|</th>   <th>95.0% Conf. Int.</th> \n",
       "</tr>\n",
       "<tr>\n",
       "  <th>omega</th>    <td>    0.6814</td> <td>5.256e-02</td> <td>   12.965</td> <td>1.927e-38</td> <td>[  0.578,  0.784]</td>\n",
       "</tr>\n",
       "<tr>\n",
       "  <th>alpha[1]</th> <td>    0.4943</td> <td>    0.111</td> <td>    4.467</td> <td>7.938e-06</td> <td>[  0.277,  0.711]</td>\n",
       "</tr>\n",
       "</table><br/><br/>Covariance estimator: robust"
      ],
      "text/latex": [
       "\\begin{center}\n",
       "\\begin{tabular}{lclc}\n",
       "\\toprule\n",
       "\\textbf{Dep. Variable:} &        ret         & \\textbf{  R-squared:         } &     0.000   \\\\\n",
       "\\textbf{Mean Model:}    &   Constant Mean    & \\textbf{  Adj. R-squared:    } &     0.000   \\\\\n",
       "\\textbf{Vol Model:}     &        ARCH        & \\textbf{  Log-Likelihood:    } &   -1859.98  \\\\\n",
       "\\textbf{Distribution:}  &       Normal       & \\textbf{  AIC:               } &    3725.96  \\\\\n",
       "\\textbf{Method:}        & Maximum Likelihood & \\textbf{  BIC:               } &    3741.48  \\\\\n",
       "\\textbf{}               &                    & \\textbf{  No. Observations:  } &    1304     \\\\\n",
       "\\textbf{Date:}          &  Sun, Mar 09 2025  & \\textbf{  Df Residuals:      } &    1303     \\\\\n",
       "\\textbf{Time:}          &      21:29:59      & \\textbf{  Df Model:          } &     1       \\\\\n",
       "\\bottomrule\n",
       "\\end{tabular}\n",
       "\\begin{tabular}{lccccc}\n",
       "            & \\textbf{coef} & \\textbf{std err} & \\textbf{t} & \\textbf{P$> |$t$|$} & \\textbf{95.0\\% Conf. Int.}  \\\\\n",
       "\\midrule\n",
       "\\textbf{mu} &       0.0810  &    2.837e-02     &     2.857  &      4.282e-03       &    [2.544e-02,  0.137]      \\\\\n",
       "                  & \\textbf{coef} & \\textbf{std err} & \\textbf{t} & \\textbf{P$> |$t$|$} & \\textbf{95.0\\% Conf. Int.}  \\\\\n",
       "\\midrule\n",
       "\\textbf{omega}    &       0.6814  &    5.256e-02     &    12.965  &      1.927e-38       &     [  0.578,  0.784]       \\\\\n",
       "\\textbf{alpha[1]} &       0.4943  &        0.111     &     4.467  &      7.938e-06       &     [  0.277,  0.711]       \\\\\n",
       "\\bottomrule\n",
       "\\end{tabular}\n",
       "%\\caption{Constant Mean - ARCH Model Results}\n",
       "\\end{center}\n",
       "\n",
       "Covariance estimator: robust"
      ],
      "text/plain": [
       "<class 'statsmodels.iolib.summary.Summary'>\n",
       "\"\"\"\n",
       "                      Constant Mean - ARCH Model Results                      \n",
       "==============================================================================\n",
       "Dep. Variable:                    ret   R-squared:                       0.000\n",
       "Mean Model:             Constant Mean   Adj. R-squared:                  0.000\n",
       "Vol Model:                       ARCH   Log-Likelihood:               -1859.98\n",
       "Distribution:                  Normal   AIC:                           3725.96\n",
       "Method:            Maximum Likelihood   BIC:                           3741.48\n",
       "                                        No. Observations:                 1304\n",
       "Date:                Sun, Mar 09 2025   Df Residuals:                     1303\n",
       "Time:                        21:29:59   Df Model:                            1\n",
       "                                Mean Model                                \n",
       "==========================================================================\n",
       "                 coef    std err          t      P>|t|    95.0% Conf. Int.\n",
       "--------------------------------------------------------------------------\n",
       "mu             0.0810  2.837e-02      2.857  4.282e-03 [2.544e-02,  0.137]\n",
       "                            Volatility Model                            \n",
       "========================================================================\n",
       "                 coef    std err          t      P>|t|  95.0% Conf. Int.\n",
       "------------------------------------------------------------------------\n",
       "omega          0.6814  5.256e-02     12.965  1.927e-38 [  0.578,  0.784]\n",
       "alpha[1]       0.4943      0.111      4.467  7.938e-06 [  0.277,  0.711]\n",
       "========================================================================\n",
       "\n",
       "Covariance estimator: robust\n",
       "\"\"\""
      ]
     },
     "execution_count": 175,
     "metadata": {},
     "output_type": "execute_result"
    }
   ],
   "source": [
    "model_arch_1 = arch_model(dj.ret[1:], mean='Constant', vol='ARCH', p=1)\n",
    "results_arch_1 = model_arch_1.fit(update_freq=2)\n",
    "results_arch_1.summary()\n",
    "# NOTE: R-sq will be zero for constant mean model (because it measures deviations from the mean))"
   ]
  },
  {
   "cell_type": "code",
   "execution_count": 176,
   "id": "46311883-3770-436d-8e77-fd3df82c0133",
   "metadata": {},
   "outputs": [
    {
     "name": "stdout",
     "output_type": "stream",
     "text": [
      "Iteration:      2,   Func. Count:     24,   Neg. LLF: 677840767.0514562\n",
      "Iteration:      4,   Func. Count:     47,   Neg. LLF: 2012.2235451941585\n",
      "Iteration:      6,   Func. Count:     71,   Neg. LLF: 1828.9092457244917\n",
      "Iteration:      8,   Func. Count:     94,   Neg. LLF: 2221.0760817033724\n",
      "Iteration:     10,   Func. Count:    118,   Neg. LLF: 1740.467039431504\n",
      "Iteration:     12,   Func. Count:    140,   Neg. LLF: 1737.8097114039638\n",
      "Iteration:     14,   Func. Count:    164,   Neg. LLF: 1736.4926011799826\n",
      "Iteration:     16,   Func. Count:    184,   Neg. LLF: 1736.4910459934208\n",
      "Optimization terminated successfully    (Exit mode 0)\n",
      "            Current function value: 1736.4910459934208\n",
      "            Iterations: 17\n",
      "            Function evaluations: 193\n",
      "            Gradient evaluations: 17\n"
     ]
    },
    {
     "data": {
      "text/html": [
       "<table class=\"simpletable\">\n",
       "<caption>Constant Mean - ARCH Model Results</caption>\n",
       "<tr>\n",
       "  <th>Dep. Variable:</th>         <td>ret</td>        <th>  R-squared:         </th>  <td>   0.000</td> \n",
       "</tr>\n",
       "<tr>\n",
       "  <th>Mean Model:</th>       <td>Constant Mean</td>   <th>  Adj. R-squared:    </th>  <td>   0.000</td> \n",
       "</tr>\n",
       "<tr>\n",
       "  <th>Vol Model:</th>            <td>ARCH</td>        <th>  Log-Likelihood:    </th> <td>  -1736.49</td>\n",
       "</tr>\n",
       "<tr>\n",
       "  <th>Distribution:</th>        <td>Normal</td>       <th>  AIC:               </th> <td>   3490.98</td>\n",
       "</tr>\n",
       "<tr>\n",
       "  <th>Method:</th>        <td>Maximum Likelihood</td> <th>  BIC:               </th> <td>   3537.54</td>\n",
       "</tr>\n",
       "<tr>\n",
       "  <th></th>                        <td></td>          <th>  No. Observations:  </th>    <td>1304</td>   \n",
       "</tr>\n",
       "<tr>\n",
       "  <th>Date:</th>           <td>Sun, Mar 09 2025</td>  <th>  Df Residuals:      </th>    <td>1303</td>   \n",
       "</tr>\n",
       "<tr>\n",
       "  <th>Time:</th>               <td>21:29:59</td>      <th>  Df Model:          </th>      <td>1</td>    \n",
       "</tr>\n",
       "</table>\n",
       "<table class=\"simpletable\">\n",
       "<caption>Mean Model</caption>\n",
       "<tr>\n",
       "   <td></td>     <th>coef</th>     <th>std err</th>      <th>t</th>       <th>P>|t|</th>     <th>95.0% Conf. Int.</th>   \n",
       "</tr>\n",
       "<tr>\n",
       "  <th>mu</th> <td>    0.0484</td> <td>2.310e-02</td> <td>    2.095</td> <td>3.615e-02</td> <td>[3.124e-03,9.367e-02]</td>\n",
       "</tr>\n",
       "</table>\n",
       "<table class=\"simpletable\">\n",
       "<caption>Volatility Model</caption>\n",
       "<tr>\n",
       "      <td></td>        <th>coef</th>     <th>std err</th>      <th>t</th>       <th>P>|t|</th>     <th>95.0% Conf. Int.</th>  \n",
       "</tr>\n",
       "<tr>\n",
       "  <th>omega</th>    <td>    0.3136</td> <td>4.508e-02</td> <td>    6.957</td> <td>3.478e-12</td>   <td>[  0.225,  0.402]</td> \n",
       "</tr>\n",
       "<tr>\n",
       "  <th>alpha[1]</th> <td>    0.1248</td> <td>5.318e-02</td> <td>    2.347</td> <td>1.893e-02</td>  <td>[2.057e-02,  0.229]</td>\n",
       "</tr>\n",
       "<tr>\n",
       "  <th>alpha[2]</th> <td>    0.1521</td> <td>3.990e-02</td> <td>    3.812</td> <td>1.381e-04</td>  <td>[7.389e-02,  0.230]</td>\n",
       "</tr>\n",
       "<tr>\n",
       "  <th>alpha[3]</th> <td>    0.1142</td> <td>4.131e-02</td> <td>    2.765</td> <td>5.689e-03</td>  <td>[3.326e-02,  0.195]</td>\n",
       "</tr>\n",
       "<tr>\n",
       "  <th>alpha[4]</th> <td>    0.0878</td> <td>5.803e-02</td> <td>    1.512</td> <td>    0.130</td> <td>[-2.597e-02,  0.201]</td>\n",
       "</tr>\n",
       "<tr>\n",
       "  <th>alpha[5]</th> <td>    0.0379</td> <td>4.592e-02</td> <td>    0.826</td> <td>    0.409</td> <td>[-5.210e-02,  0.128]</td>\n",
       "</tr>\n",
       "<tr>\n",
       "  <th>alpha[6]</th> <td>    0.1195</td> <td>4.071e-02</td> <td>    2.936</td> <td>3.328e-03</td>  <td>[3.972e-02,  0.199]</td>\n",
       "</tr>\n",
       "<tr>\n",
       "  <th>alpha[7]</th> <td>    0.0526</td> <td>3.735e-02</td> <td>    1.408</td> <td>    0.159</td> <td>[-2.062e-02,  0.126]</td>\n",
       "</tr>\n",
       "</table><br/><br/>Covariance estimator: robust"
      ],
      "text/latex": [
       "\\begin{center}\n",
       "\\begin{tabular}{lclc}\n",
       "\\toprule\n",
       "\\textbf{Dep. Variable:} &        ret         & \\textbf{  R-squared:         } &     0.000   \\\\\n",
       "\\textbf{Mean Model:}    &   Constant Mean    & \\textbf{  Adj. R-squared:    } &     0.000   \\\\\n",
       "\\textbf{Vol Model:}     &        ARCH        & \\textbf{  Log-Likelihood:    } &   -1736.49  \\\\\n",
       "\\textbf{Distribution:}  &       Normal       & \\textbf{  AIC:               } &    3490.98  \\\\\n",
       "\\textbf{Method:}        & Maximum Likelihood & \\textbf{  BIC:               } &    3537.54  \\\\\n",
       "\\textbf{}               &                    & \\textbf{  No. Observations:  } &    1304     \\\\\n",
       "\\textbf{Date:}          &  Sun, Mar 09 2025  & \\textbf{  Df Residuals:      } &    1303     \\\\\n",
       "\\textbf{Time:}          &      21:29:59      & \\textbf{  Df Model:          } &     1       \\\\\n",
       "\\bottomrule\n",
       "\\end{tabular}\n",
       "\\begin{tabular}{lccccc}\n",
       "            & \\textbf{coef} & \\textbf{std err} & \\textbf{t} & \\textbf{P$> |$t$|$} & \\textbf{95.0\\% Conf. Int.}  \\\\\n",
       "\\midrule\n",
       "\\textbf{mu} &       0.0484  &    2.310e-02     &     2.095  &      3.615e-02       &   [3.124e-03,9.367e-02]     \\\\\n",
       "                  & \\textbf{coef} & \\textbf{std err} & \\textbf{t} & \\textbf{P$> |$t$|$} & \\textbf{95.0\\% Conf. Int.}  \\\\\n",
       "\\midrule\n",
       "\\textbf{omega}    &       0.3136  &    4.508e-02     &     6.957  &      3.478e-12       &     [  0.225,  0.402]       \\\\\n",
       "\\textbf{alpha[1]} &       0.1248  &    5.318e-02     &     2.347  &      1.893e-02       &    [2.057e-02,  0.229]      \\\\\n",
       "\\textbf{alpha[2]} &       0.1521  &    3.990e-02     &     3.812  &      1.381e-04       &    [7.389e-02,  0.230]      \\\\\n",
       "\\textbf{alpha[3]} &       0.1142  &    4.131e-02     &     2.765  &      5.689e-03       &    [3.326e-02,  0.195]      \\\\\n",
       "\\textbf{alpha[4]} &       0.0878  &    5.803e-02     &     1.512  &          0.130       &    [-2.597e-02,  0.201]     \\\\\n",
       "\\textbf{alpha[5]} &       0.0379  &    4.592e-02     &     0.826  &          0.409       &    [-5.210e-02,  0.128]     \\\\\n",
       "\\textbf{alpha[6]} &       0.1195  &    4.071e-02     &     2.936  &      3.328e-03       &    [3.972e-02,  0.199]      \\\\\n",
       "\\textbf{alpha[7]} &       0.0526  &    3.735e-02     &     1.408  &          0.159       &    [-2.062e-02,  0.126]     \\\\\n",
       "\\bottomrule\n",
       "\\end{tabular}\n",
       "%\\caption{Constant Mean - ARCH Model Results}\n",
       "\\end{center}\n",
       "\n",
       "Covariance estimator: robust"
      ],
      "text/plain": [
       "<class 'statsmodels.iolib.summary.Summary'>\n",
       "\"\"\"\n",
       "                      Constant Mean - ARCH Model Results                      \n",
       "==============================================================================\n",
       "Dep. Variable:                    ret   R-squared:                       0.000\n",
       "Mean Model:             Constant Mean   Adj. R-squared:                  0.000\n",
       "Vol Model:                       ARCH   Log-Likelihood:               -1736.49\n",
       "Distribution:                  Normal   AIC:                           3490.98\n",
       "Method:            Maximum Likelihood   BIC:                           3537.54\n",
       "                                        No. Observations:                 1304\n",
       "Date:                Sun, Mar 09 2025   Df Residuals:                     1303\n",
       "Time:                        21:29:59   Df Model:                            1\n",
       "                                 Mean Model                                 \n",
       "============================================================================\n",
       "                 coef    std err          t      P>|t|      95.0% Conf. Int.\n",
       "----------------------------------------------------------------------------\n",
       "mu             0.0484  2.310e-02      2.095  3.615e-02 [3.124e-03,9.367e-02]\n",
       "                              Volatility Model                             \n",
       "===========================================================================\n",
       "                 coef    std err          t      P>|t|     95.0% Conf. Int.\n",
       "---------------------------------------------------------------------------\n",
       "omega          0.3136  4.508e-02      6.957  3.478e-12    [  0.225,  0.402]\n",
       "alpha[1]       0.1248  5.318e-02      2.347  1.893e-02  [2.057e-02,  0.229]\n",
       "alpha[2]       0.1521  3.990e-02      3.812  1.381e-04  [7.389e-02,  0.230]\n",
       "alpha[3]       0.1142  4.131e-02      2.765  5.689e-03  [3.326e-02,  0.195]\n",
       "alpha[4]       0.0878  5.803e-02      1.512      0.130 [-2.597e-02,  0.201]\n",
       "alpha[5]       0.0379  4.592e-02      0.826      0.409 [-5.210e-02,  0.128]\n",
       "alpha[6]       0.1195  4.071e-02      2.936  3.328e-03  [3.972e-02,  0.199]\n",
       "alpha[7]       0.0526  3.735e-02      1.408      0.159 [-2.062e-02,  0.126]\n",
       "===========================================================================\n",
       "\n",
       "Covariance estimator: robust\n",
       "\"\"\""
      ]
     },
     "execution_count": 176,
     "metadata": {},
     "output_type": "execute_result"
    }
   ],
   "source": [
    "model_arch_1 = arch_model(dj.ret[1:], mean='Constant', vol='ARCH', p=7)\n",
    "results_arch_1 = model_arch_1.fit(update_freq=2)\n",
    "results_arch_1.summary()\n",
    "# NOTE: R-sq will be zero for constant mean model (because it measures deviations from the mean))"
   ]
  },
  {
   "cell_type": "markdown",
   "id": "42f1d20b-941b-4105-844e-7a0339b76543",
   "metadata": {},
   "source": [
    "# Fit the best GARCH model"
   ]
  },
  {
   "cell_type": "code",
   "execution_count": 181,
   "id": "246bba9c-063f-49be-b91d-b7980d9616c1",
   "metadata": {},
   "outputs": [
    {
     "name": "stdout",
     "output_type": "stream",
     "text": [
      "Iteration:      2,   Func. Count:     13,   Neg. LLF: 63077.59155171602\n",
      "Iteration:      4,   Func. Count:     29,   Neg. LLF: 2109.101126821215\n",
      "Iteration:      6,   Func. Count:     41,   Neg. LLF: 1727.0549709606619\n",
      "Iteration:      8,   Func. Count:     52,   Neg. LLF: 1727.0433743986932\n",
      "Optimization terminated successfully    (Exit mode 0)\n",
      "            Current function value: 1727.0433743986932\n",
      "            Iterations: 9\n",
      "            Function evaluations: 56\n",
      "            Gradient evaluations: 9\n"
     ]
    },
    {
     "data": {
      "text/html": [
       "<table class=\"simpletable\">\n",
       "<caption>Constant Mean - GARCH Model Results</caption>\n",
       "<tr>\n",
       "  <th>Dep. Variable:</th>         <td>ret</td>        <th>  R-squared:         </th>  <td>   0.000</td> \n",
       "</tr>\n",
       "<tr>\n",
       "  <th>Mean Model:</th>       <td>Constant Mean</td>   <th>  Adj. R-squared:    </th>  <td>   0.000</td> \n",
       "</tr>\n",
       "<tr>\n",
       "  <th>Vol Model:</th>            <td>GARCH</td>       <th>  Log-Likelihood:    </th> <td>  -1727.04</td>\n",
       "</tr>\n",
       "<tr>\n",
       "  <th>Distribution:</th>        <td>Normal</td>       <th>  AIC:               </th> <td>   3462.09</td>\n",
       "</tr>\n",
       "<tr>\n",
       "  <th>Method:</th>        <td>Maximum Likelihood</td> <th>  BIC:               </th> <td>   3482.78</td>\n",
       "</tr>\n",
       "<tr>\n",
       "  <th></th>                        <td></td>          <th>  No. Observations:  </th>    <td>1304</td>   \n",
       "</tr>\n",
       "<tr>\n",
       "  <th>Date:</th>           <td>Sun, Mar 09 2025</td>  <th>  Df Residuals:      </th>    <td>1303</td>   \n",
       "</tr>\n",
       "<tr>\n",
       "  <th>Time:</th>               <td>21:30:10</td>      <th>  Df Model:          </th>      <td>1</td>    \n",
       "</tr>\n",
       "</table>\n",
       "<table class=\"simpletable\">\n",
       "<caption>Mean Model</caption>\n",
       "<tr>\n",
       "   <td></td>     <th>coef</th>     <th>std err</th>      <th>t</th>       <th>P>|t|</th>     <th>95.0% Conf. Int.</th>   \n",
       "</tr>\n",
       "<tr>\n",
       "  <th>mu</th> <td>    0.0540</td> <td>2.234e-02</td> <td>    2.415</td> <td>1.572e-02</td> <td>[1.018e-02,9.775e-02]</td>\n",
       "</tr>\n",
       "</table>\n",
       "<table class=\"simpletable\">\n",
       "<caption>Volatility Model</caption>\n",
       "<tr>\n",
       "      <td></td>        <th>coef</th>     <th>std err</th>      <th>t</th>       <th>P>|t|</th>     <th>95.0% Conf. Int.</th>   \n",
       "</tr>\n",
       "<tr>\n",
       "  <th>omega</th>    <td>    0.0405</td> <td>1.456e-02</td> <td>    2.785</td> <td>5.357e-03</td> <td>[1.201e-02,6.907e-02]</td>\n",
       "</tr>\n",
       "<tr>\n",
       "  <th>alpha[1]</th> <td>    0.1113</td> <td>3.591e-02</td> <td>    3.100</td> <td>1.938e-03</td>  <td>[4.092e-02,  0.182]</td> \n",
       "</tr>\n",
       "<tr>\n",
       "  <th>beta[1]</th>  <td>    0.8415</td> <td>4.279e-02</td> <td>   19.664</td> <td>4.345e-86</td>   <td>[  0.758,  0.925]</td>  \n",
       "</tr>\n",
       "</table><br/><br/>Covariance estimator: robust"
      ],
      "text/latex": [
       "\\begin{center}\n",
       "\\begin{tabular}{lclc}\n",
       "\\toprule\n",
       "\\textbf{Dep. Variable:} &        ret         & \\textbf{  R-squared:         } &     0.000   \\\\\n",
       "\\textbf{Mean Model:}    &   Constant Mean    & \\textbf{  Adj. R-squared:    } &     0.000   \\\\\n",
       "\\textbf{Vol Model:}     &       GARCH        & \\textbf{  Log-Likelihood:    } &   -1727.04  \\\\\n",
       "\\textbf{Distribution:}  &       Normal       & \\textbf{  AIC:               } &    3462.09  \\\\\n",
       "\\textbf{Method:}        & Maximum Likelihood & \\textbf{  BIC:               } &    3482.78  \\\\\n",
       "\\textbf{}               &                    & \\textbf{  No. Observations:  } &    1304     \\\\\n",
       "\\textbf{Date:}          &  Sun, Mar 09 2025  & \\textbf{  Df Residuals:      } &    1303     \\\\\n",
       "\\textbf{Time:}          &      21:30:10      & \\textbf{  Df Model:          } &     1       \\\\\n",
       "\\bottomrule\n",
       "\\end{tabular}\n",
       "\\begin{tabular}{lccccc}\n",
       "            & \\textbf{coef} & \\textbf{std err} & \\textbf{t} & \\textbf{P$> |$t$|$} & \\textbf{95.0\\% Conf. Int.}  \\\\\n",
       "\\midrule\n",
       "\\textbf{mu} &       0.0540  &    2.234e-02     &     2.415  &      1.572e-02       &   [1.018e-02,9.775e-02]     \\\\\n",
       "                  & \\textbf{coef} & \\textbf{std err} & \\textbf{t} & \\textbf{P$> |$t$|$} & \\textbf{95.0\\% Conf. Int.}  \\\\\n",
       "\\midrule\n",
       "\\textbf{omega}    &       0.0405  &    1.456e-02     &     2.785  &      5.357e-03       &   [1.201e-02,6.907e-02]     \\\\\n",
       "\\textbf{alpha[1]} &       0.1113  &    3.591e-02     &     3.100  &      1.938e-03       &    [4.092e-02,  0.182]      \\\\\n",
       "\\textbf{beta[1]}  &       0.8415  &    4.279e-02     &    19.664  &      4.345e-86       &     [  0.758,  0.925]       \\\\\n",
       "\\bottomrule\n",
       "\\end{tabular}\n",
       "%\\caption{Constant Mean - GARCH Model Results}\n",
       "\\end{center}\n",
       "\n",
       "Covariance estimator: robust"
      ],
      "text/plain": [
       "<class 'statsmodels.iolib.summary.Summary'>\n",
       "\"\"\"\n",
       "                     Constant Mean - GARCH Model Results                      \n",
       "==============================================================================\n",
       "Dep. Variable:                    ret   R-squared:                       0.000\n",
       "Mean Model:             Constant Mean   Adj. R-squared:                  0.000\n",
       "Vol Model:                      GARCH   Log-Likelihood:               -1727.04\n",
       "Distribution:                  Normal   AIC:                           3462.09\n",
       "Method:            Maximum Likelihood   BIC:                           3482.78\n",
       "                                        No. Observations:                 1304\n",
       "Date:                Sun, Mar 09 2025   Df Residuals:                     1303\n",
       "Time:                        21:30:10   Df Model:                            1\n",
       "                                 Mean Model                                 \n",
       "============================================================================\n",
       "                 coef    std err          t      P>|t|      95.0% Conf. Int.\n",
       "----------------------------------------------------------------------------\n",
       "mu             0.0540  2.234e-02      2.415  1.572e-02 [1.018e-02,9.775e-02]\n",
       "                              Volatility Model                              \n",
       "============================================================================\n",
       "                 coef    std err          t      P>|t|      95.0% Conf. Int.\n",
       "----------------------------------------------------------------------------\n",
       "omega          0.0405  1.456e-02      2.785  5.357e-03 [1.201e-02,6.907e-02]\n",
       "alpha[1]       0.1113  3.591e-02      3.100  1.938e-03   [4.092e-02,  0.182]\n",
       "beta[1]        0.8415  4.279e-02     19.664  4.345e-86     [  0.758,  0.925]\n",
       "============================================================================\n",
       "\n",
       "Covariance estimator: robust\n",
       "\"\"\""
      ]
     },
     "execution_count": 181,
     "metadata": {},
     "output_type": "execute_result"
    }
   ],
   "source": [
    "model_garch=arch_model(dj.ret[1:], mean='Constant', vol='GARCH', p=1, q=1)\n",
    "results_garch=model_garch.fit(update_freq=2)\n",
    "results_garch.summary()"
   ]
  },
  {
   "cell_type": "code",
   "execution_count": null,
   "id": "60cc7a70-68ba-4820-8911-ecabba4be0a5",
   "metadata": {},
   "outputs": [],
   "source": []
  }
 ],
 "metadata": {
  "kernelspec": {
   "display_name": "Python [conda env:base] *",
   "language": "python",
   "name": "conda-base-py"
  },
  "language_info": {
   "codemirror_mode": {
    "name": "ipython",
    "version": 3
   },
   "file_extension": ".py",
   "mimetype": "text/x-python",
   "name": "python",
   "nbconvert_exporter": "python",
   "pygments_lexer": "ipython3",
   "version": "3.12.7"
  }
 },
 "nbformat": 4,
 "nbformat_minor": 5
}
